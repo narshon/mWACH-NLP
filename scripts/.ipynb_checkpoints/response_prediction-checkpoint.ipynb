{
 "cells": [
  {
   "cell_type": "markdown",
   "metadata": {},
   "source": [
    "# Predicting probability of a response message from a user based on some features of the system message using logistic regression"
   ]
  },
  {
   "cell_type": "markdown",
   "metadata": {},
   "source": [
    "Our feature input vectors:- \n",
    "\n",
    "    edd_wk - number of days/7 to expected delivery date.\n",
    "    chars - length of message in characters.\n",
    "    words - length of message in words\n",
    "    swahili - if message was sent in swahili langauge.\n",
    "    english - if message was sent in english language\n",
    "    luo - if message was sent in luo language.\n",
    "\n",
    "Output vector\n",
    "\n",
    "    response - whether the message generated a response or not.\n",
    "\n",
    "Problem Description\n",
    "\n",
    "Given a message sent to a user, predict whether the user will send back a response or not based on features of that message.\n"
   ]
  },
  {
   "cell_type": "code",
   "execution_count": 1,
   "metadata": {},
   "outputs": [],
   "source": [
    "import numpy as np, matplotlib.pyplot as plt, pandas as pd\n",
    "pd.set_option('display.max_rows', 4)\n"
   ]
  },
  {
   "cell_type": "code",
   "execution_count": 2,
   "metadata": {},
   "outputs": [
    {
     "data": {
      "text/html": [
       "<div>\n",
       "<style scoped>\n",
       "    .dataframe tbody tr th:only-of-type {\n",
       "        vertical-align: middle;\n",
       "    }\n",
       "\n",
       "    .dataframe tbody tr th {\n",
       "        vertical-align: top;\n",
       "    }\n",
       "\n",
       "    .dataframe thead th {\n",
       "        text-align: right;\n",
       "    }\n",
       "</style>\n",
       "<table border=\"1\" class=\"dataframe\">\n",
       "  <thead>\n",
       "    <tr style=\"text-align: right;\">\n",
       "      <th></th>\n",
       "      <th>mid</th>\n",
       "      <th>pid</th>\n",
       "      <th>day</th>\n",
       "      <th>timestamp</th>\n",
       "      <th>auto</th>\n",
       "      <th>external</th>\n",
       "      <th>delta_human</th>\n",
       "      <th>delta</th>\n",
       "      <th>delta_last</th>\n",
       "      <th>study_wk</th>\n",
       "      <th>edd_wk</th>\n",
       "      <th>chars</th>\n",
       "      <th>words</th>\n",
       "      <th>topic</th>\n",
       "      <th>related</th>\n",
       "      <th>sent_by</th>\n",
       "      <th>language</th>\n",
       "      <th>translated</th>\n",
       "      <th>original</th>\n",
       "    </tr>\n",
       "  </thead>\n",
       "  <tbody>\n",
       "    <tr>\n",
       "      <th>0</th>\n",
       "      <td>808</td>\n",
       "      <td>15</td>\n",
       "      <td>Tue</td>\n",
       "      <td>2017-12-05 06:36:59.614</td>\n",
       "      <td>signup.two-way.normal.0</td>\n",
       "      <td>Success</td>\n",
       "      <td>NaN</td>\n",
       "      <td>NaN</td>\n",
       "      <td>NaN</td>\n",
       "      <td>0.000000</td>\n",
       "      <td>-9.000000</td>\n",
       "      <td>250</td>\n",
       "      <td>42</td>\n",
       "      <td>NaN</td>\n",
       "      <td>NaN</td>\n",
       "      <td>system</td>\n",
       "      <td>swahili</td>\n",
       "      <td>Welcome to Mobile WACh NEO! Good job coming in...</td>\n",
       "      <td>Karibu kwa Mobile WACh NEO. Kazi nzuri kwa kuj...</td>\n",
       "    </tr>\n",
       "    <tr>\n",
       "      <th>1</th>\n",
       "      <td>859</td>\n",
       "      <td>15</td>\n",
       "      <td>Tue</td>\n",
       "      <td>2017-12-05 06:55:45.982</td>\n",
       "      <td>NaN</td>\n",
       "      <td>NaN</td>\n",
       "      <td>18m</td>\n",
       "      <td>1.126367e+03</td>\n",
       "      <td>NaN</td>\n",
       "      <td>0.000000</td>\n",
       "      <td>-9.000000</td>\n",
       "      <td>30</td>\n",
       "      <td>4</td>\n",
       "      <td>validation</td>\n",
       "      <td>1.0</td>\n",
       "      <td>participant</td>\n",
       "      <td>english</td>\n",
       "      <td>NaN</td>\n",
       "      <td>Validation Code Correct: 13514</td>\n",
       "    </tr>\n",
       "    <tr>\n",
       "      <th>...</th>\n",
       "      <td>...</td>\n",
       "      <td>...</td>\n",
       "      <td>...</td>\n",
       "      <td>...</td>\n",
       "      <td>...</td>\n",
       "      <td>...</td>\n",
       "      <td>...</td>\n",
       "      <td>...</td>\n",
       "      <td>...</td>\n",
       "      <td>...</td>\n",
       "      <td>...</td>\n",
       "      <td>...</td>\n",
       "      <td>...</td>\n",
       "      <td>...</td>\n",
       "      <td>...</td>\n",
       "      <td>...</td>\n",
       "      <td>...</td>\n",
       "      <td>...</td>\n",
       "      <td>...</td>\n",
       "    </tr>\n",
       "    <tr>\n",
       "      <th>59504</th>\n",
       "      <td>56843</td>\n",
       "      <td>800</td>\n",
       "      <td>Sun</td>\n",
       "      <td>2018-07-15 17:05:23.401</td>\n",
       "      <td>edd.two-way.normal.14</td>\n",
       "      <td>Failed</td>\n",
       "      <td>NaN</td>\n",
       "      <td>NaN</td>\n",
       "      <td>NaN</td>\n",
       "      <td>8.714286</td>\n",
       "      <td>2.000000</td>\n",
       "      <td>252</td>\n",
       "      <td>41</td>\n",
       "      <td>42 weeks</td>\n",
       "      <td>NaN</td>\n",
       "      <td>system</td>\n",
       "      <td>swahili</td>\n",
       "      <td>{name}, this is {nurse} from {clinic} Bad swel...</td>\n",
       "      <td>Linet, huyu ni Mercy kutoka Rachuonyo. kufura ...</td>\n",
       "    </tr>\n",
       "    <tr>\n",
       "      <th>59505</th>\n",
       "      <td>67270</td>\n",
       "      <td>800</td>\n",
       "      <td>Mon</td>\n",
       "      <td>2019-02-04 06:31:09.703</td>\n",
       "      <td>NaN</td>\n",
       "      <td>Failed</td>\n",
       "      <td>258d 20h 7m</td>\n",
       "      <td>2.236368e+07</td>\n",
       "      <td>NaN</td>\n",
       "      <td>37.857143</td>\n",
       "      <td>31.142857</td>\n",
       "      <td>354</td>\n",
       "      <td>58</td>\n",
       "      <td>NaN</td>\n",
       "      <td>NaN</td>\n",
       "      <td>nurse</td>\n",
       "      <td>NaN</td>\n",
       "      <td>{name}, this is {nurse} from {clinic}. Thank y...</td>\n",
       "      <td>Linet, huyu ni Mercy kutoka kwa Rachuonyo. Asa...</td>\n",
       "    </tr>\n",
       "  </tbody>\n",
       "</table>\n",
       "<p>59506 rows × 19 columns</p>\n",
       "</div>"
      ],
      "text/plain": [
       "         mid  pid  day               timestamp                     auto  \\\n",
       "0        808   15  Tue 2017-12-05 06:36:59.614  signup.two-way.normal.0   \n",
       "1        859   15  Tue 2017-12-05 06:55:45.982                      NaN   \n",
       "...      ...  ...  ...                     ...                      ...   \n",
       "59504  56843  800  Sun 2018-07-15 17:05:23.401    edd.two-way.normal.14   \n",
       "59505  67270  800  Mon 2019-02-04 06:31:09.703                      NaN   \n",
       "\n",
       "      external   delta_human         delta  delta_last   study_wk     edd_wk  \\\n",
       "0      Success           NaN           NaN         NaN   0.000000  -9.000000   \n",
       "1          NaN          18m   1.126367e+03         NaN   0.000000  -9.000000   \n",
       "...        ...           ...           ...         ...        ...        ...   \n",
       "59504   Failed           NaN           NaN         NaN   8.714286   2.000000   \n",
       "59505   Failed  258d 20h 7m   2.236368e+07         NaN  37.857143  31.142857   \n",
       "\n",
       "       chars  words       topic  related      sent_by language  \\\n",
       "0        250     42         NaN      NaN       system  swahili   \n",
       "1         30      4  validation      1.0  participant  english   \n",
       "...      ...    ...         ...      ...          ...      ...   \n",
       "59504    252     41    42 weeks      NaN       system  swahili   \n",
       "59505    354     58         NaN      NaN        nurse      NaN   \n",
       "\n",
       "                                              translated  \\\n",
       "0      Welcome to Mobile WACh NEO! Good job coming in...   \n",
       "1                                                    NaN   \n",
       "...                                                  ...   \n",
       "59504  {name}, this is {nurse} from {clinic} Bad swel...   \n",
       "59505  {name}, this is {nurse} from {clinic}. Thank y...   \n",
       "\n",
       "                                                original  \n",
       "0      Karibu kwa Mobile WACh NEO. Kazi nzuri kwa kuj...  \n",
       "1                         Validation Code Correct: 13514  \n",
       "...                                                  ...  \n",
       "59504  Linet, huyu ni Mercy kutoka Rachuonyo. kufura ...  \n",
       "59505  Linet, huyu ni Mercy kutoka kwa Rachuonyo. Asa...  \n",
       "\n",
       "[59506 rows x 19 columns]"
      ]
     },
     "execution_count": 2,
     "metadata": {},
     "output_type": "execute_result"
    }
   ],
   "source": [
    "messages_df = pd.read_excel(\"C:/Users/user/UW/keshet - mwach_interaction/SMSdata/mwachNeo/allSMSdatabase/messages_export_2019-03-05.xlsx\")\n",
    "messages_df"
   ]
  },
  {
   "cell_type": "code",
   "execution_count": 3,
   "metadata": {},
   "outputs": [
    {
     "data": {
      "text/plain": [
       "799"
      ]
     },
     "execution_count": 3,
     "metadata": {},
     "output_type": "execute_result"
    }
   ],
   "source": [
    "#check number of participants\n",
    "participants = messages_df.pid.nunique()\n",
    "participants"
   ]
  },
  {
   "cell_type": "markdown",
   "metadata": {},
   "source": [
    "   Group the messages by system message"
   ]
  },
  {
   "cell_type": "code",
   "execution_count": 4,
   "metadata": {},
   "outputs": [
    {
     "name": "stdout",
     "output_type": "stream",
     "text": [
      "Number of System Messages:  26021\n"
     ]
    }
   ],
   "source": [
    "messages_df['system_msg'] = (messages_df['sent_by']=='system')\n",
    "print(\"Number of System Messages: \", messages_df['system_msg'].sum())"
   ]
  },
  {
   "cell_type": "code",
   "execution_count": 5,
   "metadata": {},
   "outputs": [
    {
     "data": {
      "text/plain": [
       "7115     190\n",
       "24446     39\n",
       "        ... \n",
       "17924      1\n",
       "2047       1\n",
       "Name: msg_group, Length: 26021, dtype: int64"
      ]
     },
     "execution_count": 5,
     "metadata": {},
     "output_type": "execute_result"
    }
   ],
   "source": [
    "#We need to know number of responses each system message received. --- we will come back later to remove nurse messages\n",
    "messages_df['msg_group'] = messages_df.system_msg.cumsum()\n",
    "messages_df.msg_group.value_counts()"
   ]
  },
  {
   "cell_type": "code",
   "execution_count": 6,
   "metadata": {},
   "outputs": [],
   "source": [
    "#Our responses vector is all those messages with a value count of more than 1\n",
    "response = (messages_df.msg_group.value_counts() > 1)"
   ]
  },
  {
   "cell_type": "code",
   "execution_count": 7,
   "metadata": {},
   "outputs": [
    {
     "data": {
      "text/plain": [
       "7115     True\n",
       "24446    True\n",
       "         ... \n",
       "20195    True\n",
       "6010     True\n",
       "Name: msg_group, Length: 5, dtype: bool"
      ]
     },
     "execution_count": 7,
     "metadata": {},
     "output_type": "execute_result"
    }
   ],
   "source": [
    "response.head()"
   ]
  },
  {
   "cell_type": "code",
   "execution_count": 8,
   "metadata": {},
   "outputs": [
    {
     "name": "stdout",
     "output_type": "stream",
     "text": [
      "Number of system messages with a \"response\": 11592\n"
     ]
    }
   ],
   "source": [
    "print('Number of system messages with a \"response\":', response.sum())"
   ]
  },
  {
   "cell_type": "code",
   "execution_count": 9,
   "metadata": {},
   "outputs": [
    {
     "data": {
      "text/plain": [
       "0            1\n",
       "1            1\n",
       "         ...  \n",
       "59504    26021\n",
       "59505    26021\n",
       "Name: msg_group, Length: 59506, dtype: int32"
      ]
     },
     "execution_count": 9,
     "metadata": {},
     "output_type": "execute_result"
    }
   ],
   "source": [
    "messages_df['msg_group']"
   ]
  },
  {
   "cell_type": "code",
   "execution_count": 10,
   "metadata": {},
   "outputs": [],
   "source": [
    "systemMesaagesDF = messages_df[messages_df.sent_by == \"system\"]\n",
    "systemMesaagesDF = systemMesaagesDF.set_index('msg_group')\n",
    "systemMesaagesDF.shape\n",
    "systemMesaagesDF['response'] = response"
   ]
  },
  {
   "cell_type": "code",
   "execution_count": null,
   "metadata": {},
   "outputs": [],
   "source": [
    "\n"
   ]
  },
  {
   "cell_type": "code",
   "execution_count": 11,
   "metadata": {},
   "outputs": [
    {
     "data": {
      "image/png": "[encoded data removed]",
      "text/plain": [
       "<Figure size 432x288 with 1 Axes>"
      ]
     },
     "metadata": {
      "needs_background": "light"
     },
     "output_type": "display_data"
    }
   ],
   "source": [
    "#Let view this graphically\n",
    "#plt.hist(systemMesaagesDF['response'], 2, facecolor='blue', alpha=0.5)\n",
    "y=[100*len(systemMesaagesDF[systemMesaagesDF['response'] == True])/messages_df['system_msg'].sum(), \n",
    "   100*len(systemMesaagesDF[systemMesaagesDF['response'] == False])/messages_df['system_msg'].sum()]\n",
    "x=['Yes','No']\n",
    "plt.bar(x, y, align='center', alpha=0.5)\n",
    "plt.ylabel(\"Response\")\n",
    "plt.xlabel(\"Messages (%)\")\n",
    "plt.title(\"System Message Response\")\n",
    "plt.show()"
   ]
  },
  {
   "cell_type": "markdown",
   "metadata": {},
   "source": [
    "    # Defining features"
   ]
  },
  {
   "cell_type": "code",
   "execution_count": 12,
   "metadata": {},
   "outputs": [
    {
     "data": {
      "text/plain": [
       "array(['swahili', 'english', 'luo'], dtype=object)"
      ]
     },
     "execution_count": 12,
     "metadata": {},
     "output_type": "execute_result"
    }
   ],
   "source": [
    "systemMesaagesDF.language.unique()"
   ]
  },
  {
   "cell_type": "code",
   "execution_count": 13,
   "metadata": {},
   "outputs": [],
   "source": [
    "systemMesaagesDF['swahili'] = systemMesaagesDF.language == 'swahili'\n",
    "systemMesaagesDF['english'] = systemMesaagesDF.language == 'english'\n",
    "systemMesaagesDF['luo'] = systemMesaagesDF.language == 'luo'"
   ]
  },
  {
   "cell_type": "code",
   "execution_count": 14,
   "metadata": {},
   "outputs": [],
   "source": [
    "#Let's now filter the columns and convert them to float.\n",
    "X = systemMesaagesDF.filter(['edd_wk', 'chars', 'words', 'swahili', 'english', 'luo']).astype(float)\n",
    "y = systemMesaagesDF.response.astype(float)"
   ]
  },
  {
   "cell_type": "code",
   "execution_count": 15,
   "metadata": {},
   "outputs": [
    {
     "data": {
      "text/plain": [
       "Text(0, 0.5, 'Engagement Rate (%)')"
      ]
     },
     "execution_count": 15,
     "metadata": {},
     "output_type": "execute_result"
    },
    {
     "data": {
      "image/png": "[encoded data removed]",
      "text/plain": [
       "<Figure size 432x288 with 1 Axes>"
      ]
     },
     "metadata": {
      "needs_background": "light"
     },
     "output_type": "display_data"
    }
   ],
   "source": [
    "(100 * systemMesaagesDF.groupby('language').response.mean().sort_values(ascending=False)).plot.bar(color='grey')\n",
    "plt.xticks(rotation=0)\n",
    "plt.ylabel('Engagement Rate (%)')"
   ]
  },
  {
   "cell_type": "markdown",
   "metadata": {},
   "source": [
    "# prediction using sklearn"
   ]
  },
  {
   "cell_type": "code",
   "execution_count": 16,
   "metadata": {},
   "outputs": [],
   "source": [
    "import sklearn.linear_model\n",
    "from sklearn.metrics import roc_auc_score\n",
    "from sklearn.metrics import accuracy_score\n",
    "from sklearn.model_selection import RepeatedKFold\n",
    "import statistics"
   ]
  },
  {
   "cell_type": "code",
   "execution_count": 17,
   "metadata": {},
   "outputs": [
    {
     "data": {
      "text/plain": [
       "LogisticRegression(C=1.0, class_weight=None, dual=False, fit_intercept=True,\n",
       "          intercept_scaling=1, max_iter=100, multi_class='warn',\n",
       "          n_jobs=None, penalty='l2', random_state=None, solver='lbfgs',\n",
       "          tol=0.0001, verbose=0, warm_start=False)"
      ]
     },
     "execution_count": 17,
     "metadata": {},
     "output_type": "execute_result"
    }
   ],
   "source": [
    "#We now fit the model\n",
    "logreg = sklearn.linear_model.LogisticRegression(solver='lbfgs')\n",
    "logreg.fit(X, y)"
   ]
  },
  {
   "cell_type": "code",
   "execution_count": 18,
   "metadata": {},
   "outputs": [
    {
     "name": "stdout",
     "output_type": "stream",
     "text": [
      "[[-0.03729892 -0.01015251  0.05233012  0.37055724  0.20324014 -0.59154233]]\n"
     ]
    }
   ],
   "source": [
    "#Let's explore the coefficients\n",
    "print(logreg.coef_)"
   ]
  },
  {
   "cell_type": "markdown",
   "metadata": {},
   "source": [
    "Some notes to consider from the coefficients\n",
    "\n",
    "    edd_wk (-ve) - The further the edd_wk, the less likely to get response\n",
    "    chars (-ve) - The smaller the length of characters the higher the likelyhood\n",
    "    words (+ve) - The more the words increses likelyhood\n",
    "    swahili - More likely compared to luo. (quite interesting as luo is native language)\n",
    "    english - More likely than any other langauge - probably number of messages sent in this language was higher.\n",
    "    \n",
    "    luo - least likely language."
   ]
  },
  {
   "cell_type": "code",
   "execution_count": 19,
   "metadata": {},
   "outputs": [
    {
     "data": {
      "image/png": "[encoded data removed]",
      "text/plain": [
       "<Figure size 432x288 with 1 Axes>"
      ]
     },
     "metadata": {
      "needs_background": "light"
     },
     "output_type": "display_data"
    }
   ],
   "source": [
    "pr = logreg.predict_proba(X)\n",
    "predict = logreg.predict(X)\n",
    "plt.hist(pr[:,0])\n",
    "plt.xlabel('Predicted Probability')\n",
    "plt.ylabel('Number of messages')\n",
    "plt.axis(xmin=0, xmax=1)\n",
    "plt.grid();"
   ]
  },
  {
   "cell_type": "code",
   "execution_count": 20,
   "metadata": {},
   "outputs": [
    {
     "data": {
      "text/plain": [
       "0.5794934860305138"
      ]
     },
     "execution_count": 20,
     "metadata": {},
     "output_type": "execute_result"
    }
   ],
   "source": [
    "#Testing the performance of this model.\n",
    "accuracy_score(y, predict)"
   ]
  },
  {
   "cell_type": "code",
   "execution_count": 21,
   "metadata": {},
   "outputs": [
    {
     "data": {
      "text/plain": [
       "0.5576429074594378"
      ]
     },
     "execution_count": 21,
     "metadata": {},
     "output_type": "execute_result"
    }
   ],
   "source": [
    "#Let's also do roc-auc-score\n",
    "roc_auc_score(y, predict)"
   ]
  },
  {
   "cell_type": "code",
   "execution_count": 23,
   "metadata": {},
   "outputs": [
    {
     "data": {
      "text/plain": [
       "57.95395766665495"
      ]
     },
     "execution_count": 23,
     "metadata": {},
     "output_type": "execute_result"
    }
   ],
   "source": [
    "#K-Fold for all features (4)\n",
    "rkf = RepeatedKFold(n_splits=10, n_repeats=10, random_state=2652124)\n",
    "accuracy = []\n",
    "roc = []\n",
    "count = 0\n",
    "acc = 0\n",
    "model = sklearn.linear_model.LogisticRegression(solver='lbfgs')\n",
    "for train_index, test_index in rkf.split(X, y):\n",
    "    #print(\"TRAIN:\", train_index, \"TEST:\", test_index)\n",
    "    X_train, X_test = X.iloc[train_index], X.iloc[test_index]\n",
    "    y_train, y_test = y.iloc[train_index], y.iloc[test_index]\n",
    "    model.fit(X_train, y_train)\n",
    "    pred = model.predict(X_test)\n",
    "    accuracy.append(accuracy_score(y_test, pred)*100)  #converting the preditions to 100%\n",
    "    roc.append(roc_auc_score(y, predict))\n",
    "    count += 1\n",
    "statistics.mean(accuracy)"
   ]
  },
  {
   "cell_type": "code",
   "execution_count": 24,
   "metadata": {},
   "outputs": [
    {
     "data": {
      "text/plain": [
       "0.5576429074594378"
      ]
     },
     "execution_count": 24,
     "metadata": {},
     "output_type": "execute_result"
    }
   ],
   "source": [
    "statistics.mean(roc)"
   ]
  },
  {
   "cell_type": "markdown",
   "metadata": {},
   "source": [
    "Let's now use gradient boosting"
   ]
  },
  {
   "cell_type": "code",
   "execution_count": 26,
   "metadata": {},
   "outputs": [],
   "source": [
    "import sklearn.ensemble"
   ]
  },
  {
   "cell_type": "code",
   "execution_count": 27,
   "metadata": {},
   "outputs": [
    {
     "data": {
      "text/plain": [
       "GradientBoostingClassifier(criterion='friedman_mse', init=None,\n",
       "              learning_rate=0.1, loss='deviance', max_depth=3,\n",
       "              max_features=None, max_leaf_nodes=None,\n",
       "              min_impurity_decrease=0.0, min_impurity_split=None,\n",
       "              min_samples_leaf=1, min_samples_split=2,\n",
       "              min_weight_fraction_leaf=0.0, n_estimators=100,\n",
       "              n_iter_no_change=None, presort='auto', random_state=None,\n",
       "              subsample=1.0, tol=0.0001, validation_fraction=0.1,\n",
       "              verbose=0, warm_start=False)"
      ]
     },
     "execution_count": 27,
     "metadata": {},
     "output_type": "execute_result"
    }
   ],
   "source": [
    "GB_model = sklearn.ensemble.GradientBoostingClassifier()\n",
    "GB_model.fit(X, y)"
   ]
  },
  {
   "cell_type": "code",
   "execution_count": 28,
   "metadata": {},
   "outputs": [
    {
     "data": {
      "image/png": "[encoded data removed]",
      "text/plain": [
       "<Figure size 432x288 with 1 Axes>"
      ]
     },
     "metadata": {
      "needs_background": "light"
     },
     "output_type": "display_data"
    }
   ],
   "source": [
    "pr = GB_model.predict_proba(X)\n",
    "predict = GB_model.predict(X)\n",
    "plt.hist(pr[:,0])\n",
    "plt.xlabel('Predicted Probability')\n",
    "plt.ylabel('Number of messages')\n",
    "plt.axis(xmin=0, xmax=1)\n",
    "plt.grid();"
   ]
  },
  {
   "cell_type": "code",
   "execution_count": 29,
   "metadata": {},
   "outputs": [
    {
     "data": {
      "text/plain": [
       "0.6263018331347757"
      ]
     },
     "execution_count": 29,
     "metadata": {},
     "output_type": "execute_result"
    }
   ],
   "source": [
    "#Testing the performance of this model.\n",
    "accuracy_score(y, predict)"
   ]
  },
  {
   "cell_type": "code",
   "execution_count": 30,
   "metadata": {},
   "outputs": [
    {
     "data": {
      "text/plain": [
       "0.6592223984976578"
      ]
     },
     "execution_count": 30,
     "metadata": {},
     "output_type": "execute_result"
    }
   ],
   "source": [
    "#Let's also do roc-auc-score\n",
    "roc_auc_score(y, pr[:,1])"
   ]
  },
  {
   "cell_type": "code",
   "execution_count": 32,
   "metadata": {},
   "outputs": [
    {
     "ename": "ValueError",
     "evalue": "Classification metrics can't handle a mix of binary and continuous-multioutput targets",
     "output_type": "error",
     "traceback": [
      "\u001b[1;31m---------------------------------------------------------------------------\u001b[0m",
      "\u001b[1;31mValueError\u001b[0m                                Traceback (most recent call last)",
      "\u001b[1;32m<ipython-input-32-15a03505022e>\u001b[0m in \u001b[0;36m<module>\u001b[1;34m\u001b[0m\n\u001b[0;32m     11\u001b[0m     \u001b[0mpredict\u001b[0m \u001b[1;33m=\u001b[0m \u001b[0mmodel\u001b[0m\u001b[1;33m.\u001b[0m\u001b[0mpredict\u001b[0m\u001b[1;33m(\u001b[0m\u001b[0mX_test\u001b[0m\u001b[1;33m)\u001b[0m\u001b[1;33m\u001b[0m\u001b[1;33m\u001b[0m\u001b[0m\n\u001b[0;32m     12\u001b[0m     \u001b[0mpred\u001b[0m \u001b[1;33m=\u001b[0m \u001b[0mmodel\u001b[0m\u001b[1;33m.\u001b[0m\u001b[0mpredict_proba\u001b[0m\u001b[1;33m(\u001b[0m\u001b[0mX_test\u001b[0m\u001b[1;33m)\u001b[0m\u001b[1;33m\u001b[0m\u001b[1;33m\u001b[0m\u001b[0m\n\u001b[1;32m---> 13\u001b[1;33m     \u001b[0maccuracy\u001b[0m\u001b[1;33m.\u001b[0m\u001b[0mappend\u001b[0m\u001b[1;33m(\u001b[0m\u001b[0maccuracy_score\u001b[0m\u001b[1;33m(\u001b[0m\u001b[0my_test\u001b[0m\u001b[1;33m,\u001b[0m \u001b[0mpred\u001b[0m\u001b[1;33m)\u001b[0m\u001b[1;33m*\u001b[0m\u001b[1;36m100\u001b[0m\u001b[1;33m)\u001b[0m  \u001b[1;31m#converting the preditions to 100%\u001b[0m\u001b[1;33m\u001b[0m\u001b[1;33m\u001b[0m\u001b[0m\n\u001b[0m\u001b[0;32m     14\u001b[0m     \u001b[0mroc\u001b[0m\u001b[1;33m.\u001b[0m\u001b[0mappend\u001b[0m\u001b[1;33m(\u001b[0m\u001b[0mroc_auc_score\u001b[0m\u001b[1;33m(\u001b[0m\u001b[0my_test\u001b[0m\u001b[1;33m,\u001b[0m \u001b[0mpred\u001b[0m\u001b[1;33m[\u001b[0m\u001b[1;33m:\u001b[0m\u001b[1;33m,\u001b[0m\u001b[1;36m1\u001b[0m\u001b[1;33m]\u001b[0m\u001b[1;33m)\u001b[0m\u001b[1;33m*\u001b[0m\u001b[1;36m100\u001b[0m\u001b[1;33m)\u001b[0m\u001b[1;33m\u001b[0m\u001b[1;33m\u001b[0m\u001b[0m\n\u001b[0;32m     15\u001b[0m \u001b[1;33m\u001b[0m\u001b[0m\n",
      "\u001b[1;32mC:\\ProgramData\\Anaconda3\\lib\\site-packages\\sklearn\\metrics\\classification.py\u001b[0m in \u001b[0;36maccuracy_score\u001b[1;34m(y_true, y_pred, normalize, sample_weight)\u001b[0m\n\u001b[0;32m    174\u001b[0m \u001b[1;33m\u001b[0m\u001b[0m\n\u001b[0;32m    175\u001b[0m     \u001b[1;31m# Compute accuracy for each possible representation\u001b[0m\u001b[1;33m\u001b[0m\u001b[1;33m\u001b[0m\u001b[1;33m\u001b[0m\u001b[0m\n\u001b[1;32m--> 176\u001b[1;33m     \u001b[0my_type\u001b[0m\u001b[1;33m,\u001b[0m \u001b[0my_true\u001b[0m\u001b[1;33m,\u001b[0m \u001b[0my_pred\u001b[0m \u001b[1;33m=\u001b[0m \u001b[0m_check_targets\u001b[0m\u001b[1;33m(\u001b[0m\u001b[0my_true\u001b[0m\u001b[1;33m,\u001b[0m \u001b[0my_pred\u001b[0m\u001b[1;33m)\u001b[0m\u001b[1;33m\u001b[0m\u001b[1;33m\u001b[0m\u001b[0m\n\u001b[0m\u001b[0;32m    177\u001b[0m     \u001b[0mcheck_consistent_length\u001b[0m\u001b[1;33m(\u001b[0m\u001b[0my_true\u001b[0m\u001b[1;33m,\u001b[0m \u001b[0my_pred\u001b[0m\u001b[1;33m,\u001b[0m \u001b[0msample_weight\u001b[0m\u001b[1;33m)\u001b[0m\u001b[1;33m\u001b[0m\u001b[1;33m\u001b[0m\u001b[0m\n\u001b[0;32m    178\u001b[0m     \u001b[1;32mif\u001b[0m \u001b[0my_type\u001b[0m\u001b[1;33m.\u001b[0m\u001b[0mstartswith\u001b[0m\u001b[1;33m(\u001b[0m\u001b[1;34m'multilabel'\u001b[0m\u001b[1;33m)\u001b[0m\u001b[1;33m:\u001b[0m\u001b[1;33m\u001b[0m\u001b[1;33m\u001b[0m\u001b[0m\n",
      "\u001b[1;32mC:\\ProgramData\\Anaconda3\\lib\\site-packages\\sklearn\\metrics\\classification.py\u001b[0m in \u001b[0;36m_check_targets\u001b[1;34m(y_true, y_pred)\u001b[0m\n\u001b[0;32m     79\u001b[0m     \u001b[1;32mif\u001b[0m \u001b[0mlen\u001b[0m\u001b[1;33m(\u001b[0m\u001b[0my_type\u001b[0m\u001b[1;33m)\u001b[0m \u001b[1;33m>\u001b[0m \u001b[1;36m1\u001b[0m\u001b[1;33m:\u001b[0m\u001b[1;33m\u001b[0m\u001b[1;33m\u001b[0m\u001b[0m\n\u001b[0;32m     80\u001b[0m         raise ValueError(\"Classification metrics can't handle a mix of {0} \"\n\u001b[1;32m---> 81\u001b[1;33m                          \"and {1} targets\".format(type_true, type_pred))\n\u001b[0m\u001b[0;32m     82\u001b[0m \u001b[1;33m\u001b[0m\u001b[0m\n\u001b[0;32m     83\u001b[0m     \u001b[1;31m# We can't have more than one value on y_type => The set is no more needed\u001b[0m\u001b[1;33m\u001b[0m\u001b[1;33m\u001b[0m\u001b[1;33m\u001b[0m\u001b[0m\n",
      "\u001b[1;31mValueError\u001b[0m: Classification metrics can't handle a mix of binary and continuous-multioutput targets"
     ]
    }
   ],
   "source": [
    "#K-Fold for all features (4)\n",
    "rkf = RepeatedKFold(n_splits=10, n_repeats=10, random_state=2652124)\n",
    "accuracy = []\n",
    "roc = []\n",
    "model = sklearn.ensemble.GradientBoostingClassifier()\n",
    "for train_index, test_index in rkf.split(X, y):\n",
    "    #print(\"TRAIN:\", train_index, \"TEST:\", test_index)\n",
    "    X_train, X_test = X.iloc[train_index], X.iloc[test_index]\n",
    "    y_train, y_test = y.iloc[train_index], y.iloc[test_index]\n",
    "    model.fit(X_train, y_train)\n",
    "    predict = model.predict(X_test)\n",
    "    pred = model.predict_proba(X_test)\n",
    "    accuracy.append(accuracy_score(y_test, predict)*100)  #converting the preditions to 100%\n",
    "    roc.append(roc_auc_score(y_test, pred[:,1])*100)\n",
    "    \n",
    "statistics.mean(accuracy)"
   ]
  },
  {
   "cell_type": "code",
   "execution_count": 50,
   "metadata": {},
   "outputs": [
    {
     "data": {
      "text/html": [
       "<div>\n",
       "<style scoped>\n",
       "    .dataframe tbody tr th:only-of-type {\n",
       "        vertical-align: middle;\n",
       "    }\n",
       "\n",
       "    .dataframe tbody tr th {\n",
       "        vertical-align: top;\n",
       "    }\n",
       "\n",
       "    .dataframe thead th {\n",
       "        text-align: right;\n",
       "    }\n",
       "</style>\n",
       "<table border=\"1\" class=\"dataframe\">\n",
       "  <thead>\n",
       "    <tr style=\"text-align: right;\">\n",
       "      <th></th>\n",
       "      <th>mid</th>\n",
       "      <th>pid</th>\n",
       "      <th>day</th>\n",
       "      <th>timestamp</th>\n",
       "      <th>auto</th>\n",
       "      <th>external</th>\n",
       "      <th>delta_human</th>\n",
       "      <th>delta</th>\n",
       "      <th>delta_last</th>\n",
       "      <th>study_wk</th>\n",
       "      <th>...</th>\n",
       "      <th>sent_by</th>\n",
       "      <th>language</th>\n",
       "      <th>translated</th>\n",
       "      <th>original</th>\n",
       "      <th>system_msg</th>\n",
       "      <th>response</th>\n",
       "      <th>swahili</th>\n",
       "      <th>english</th>\n",
       "      <th>luo</th>\n",
       "      <th>pr</th>\n",
       "    </tr>\n",
       "    <tr>\n",
       "      <th>msg_group</th>\n",
       "      <th></th>\n",
       "      <th></th>\n",
       "      <th></th>\n",
       "      <th></th>\n",
       "      <th></th>\n",
       "      <th></th>\n",
       "      <th></th>\n",
       "      <th></th>\n",
       "      <th></th>\n",
       "      <th></th>\n",
       "      <th></th>\n",
       "      <th></th>\n",
       "      <th></th>\n",
       "      <th></th>\n",
       "      <th></th>\n",
       "      <th></th>\n",
       "      <th></th>\n",
       "      <th></th>\n",
       "      <th></th>\n",
       "      <th></th>\n",
       "      <th></th>\n",
       "    </tr>\n",
       "  </thead>\n",
       "  <tbody>\n",
       "    <tr>\n",
       "      <th>25048</th>\n",
       "      <td>65960</td>\n",
       "      <td>776</td>\n",
       "      <td>Mon</td>\n",
       "      <td>2018-11-05 17:05:04.120</td>\n",
       "      <td>dd.two-way.normal.88</td>\n",
       "      <td>Success</td>\n",
       "      <td>NaN</td>\n",
       "      <td>NaN</td>\n",
       "      <td>NaN</td>\n",
       "      <td>26.000000</td>\n",
       "      <td>...</td>\n",
       "      <td>system</td>\n",
       "      <td>english</td>\n",
       "      <td>NaN</td>\n",
       "      <td>Pam, this is Mercy from Rachuonyo. Thank you f...</td>\n",
       "      <td>True</td>\n",
       "      <td>True</td>\n",
       "      <td>False</td>\n",
       "      <td>True</td>\n",
       "      <td>False</td>\n",
       "      <td>0.060458</td>\n",
       "    </tr>\n",
       "    <tr>\n",
       "      <th>19192</th>\n",
       "      <td>64564</td>\n",
       "      <td>402</td>\n",
       "      <td>Mon</td>\n",
       "      <td>2018-09-17 17:05:03.970</td>\n",
       "      <td>dd.two-way.normal.88</td>\n",
       "      <td>Success</td>\n",
       "      <td>NaN</td>\n",
       "      <td>NaN</td>\n",
       "      <td>NaN</td>\n",
       "      <td>25.571429</td>\n",
       "      <td>...</td>\n",
       "      <td>system</td>\n",
       "      <td>english</td>\n",
       "      <td>NaN</td>\n",
       "      <td>Sarah, this is Brenda from Mathare. Thank you ...</td>\n",
       "      <td>True</td>\n",
       "      <td>True</td>\n",
       "      <td>False</td>\n",
       "      <td>True</td>\n",
       "      <td>False</td>\n",
       "      <td>0.072909</td>\n",
       "    </tr>\n",
       "    <tr>\n",
       "      <th>18804</th>\n",
       "      <td>63265</td>\n",
       "      <td>713</td>\n",
       "      <td>Fri</td>\n",
       "      <td>2018-08-31 17:05:04.485</td>\n",
       "      <td>dd.two-way.normal.88</td>\n",
       "      <td>Success</td>\n",
       "      <td>NaN</td>\n",
       "      <td>NaN</td>\n",
       "      <td>NaN</td>\n",
       "      <td>23.428571</td>\n",
       "      <td>...</td>\n",
       "      <td>system</td>\n",
       "      <td>english</td>\n",
       "      <td>NaN</td>\n",
       "      <td>Vicky, this is Mercy from Rachuonyo. Thank you...</td>\n",
       "      <td>True</td>\n",
       "      <td>True</td>\n",
       "      <td>False</td>\n",
       "      <td>True</td>\n",
       "      <td>False</td>\n",
       "      <td>0.080740</td>\n",
       "    </tr>\n",
       "    <tr>\n",
       "      <th>19802</th>\n",
       "      <td>65030</td>\n",
       "      <td>417</td>\n",
       "      <td>Wed</td>\n",
       "      <td>2018-09-26 05:05:03.504</td>\n",
       "      <td>dd.two-way.normal.88</td>\n",
       "      <td>Success</td>\n",
       "      <td>NaN</td>\n",
       "      <td>NaN</td>\n",
       "      <td>NaN</td>\n",
       "      <td>24.857143</td>\n",
       "      <td>...</td>\n",
       "      <td>system</td>\n",
       "      <td>english</td>\n",
       "      <td>NaN</td>\n",
       "      <td>Betty, this is Brenda from Mathare. Thank you ...</td>\n",
       "      <td>True</td>\n",
       "      <td>True</td>\n",
       "      <td>False</td>\n",
       "      <td>True</td>\n",
       "      <td>False</td>\n",
       "      <td>0.080740</td>\n",
       "    </tr>\n",
       "    <tr>\n",
       "      <th>...</th>\n",
       "      <td>...</td>\n",
       "      <td>...</td>\n",
       "      <td>...</td>\n",
       "      <td>...</td>\n",
       "      <td>...</td>\n",
       "      <td>...</td>\n",
       "      <td>...</td>\n",
       "      <td>...</td>\n",
       "      <td>...</td>\n",
       "      <td>...</td>\n",
       "      <td>...</td>\n",
       "      <td>...</td>\n",
       "      <td>...</td>\n",
       "      <td>...</td>\n",
       "      <td>...</td>\n",
       "      <td>...</td>\n",
       "      <td>...</td>\n",
       "      <td>...</td>\n",
       "      <td>...</td>\n",
       "      <td>...</td>\n",
       "      <td>...</td>\n",
       "    </tr>\n",
       "    <tr>\n",
       "      <th>92</th>\n",
       "      <td>63406</td>\n",
       "      <td>501</td>\n",
       "      <td>Mon</td>\n",
       "      <td>2018-09-03 05:05:03.100</td>\n",
       "      <td>dd.two-way.normal.49</td>\n",
       "      <td>Success</td>\n",
       "      <td>NaN</td>\n",
       "      <td>NaN</td>\n",
       "      <td>NaN</td>\n",
       "      <td>38.857143</td>\n",
       "      <td>...</td>\n",
       "      <td>system</td>\n",
       "      <td>luo</td>\n",
       "      <td>{name}, this is {nurse} from {clinic}. Have yo...</td>\n",
       "      <td>Min Mam, mae en Mercy mawuok Rachuonyo. Be ise...</td>\n",
       "      <td>True</td>\n",
       "      <td>False</td>\n",
       "      <td>False</td>\n",
       "      <td>False</td>\n",
       "      <td>True</td>\n",
       "      <td>0.923770</td>\n",
       "    </tr>\n",
       "    <tr>\n",
       "      <th>96</th>\n",
       "      <td>64398</td>\n",
       "      <td>501</td>\n",
       "      <td>Sat</td>\n",
       "      <td>2018-09-15 05:05:03.465</td>\n",
       "      <td>dd.two-way.normal.61</td>\n",
       "      <td>Success</td>\n",
       "      <td>NaN</td>\n",
       "      <td>NaN</td>\n",
       "      <td>NaN</td>\n",
       "      <td>40.571429</td>\n",
       "      <td>...</td>\n",
       "      <td>system</td>\n",
       "      <td>luo</td>\n",
       "      <td>{name}, this is {nurse} from {clinic}. Crying ...</td>\n",
       "      <td>Min Mam, mae en Mercy mawuok Rachuonyo. Yuak m...</td>\n",
       "      <td>True</td>\n",
       "      <td>False</td>\n",
       "      <td>False</td>\n",
       "      <td>False</td>\n",
       "      <td>True</td>\n",
       "      <td>0.926740</td>\n",
       "    </tr>\n",
       "    <tr>\n",
       "      <th>84</th>\n",
       "      <td>61196</td>\n",
       "      <td>501</td>\n",
       "      <td>Sat</td>\n",
       "      <td>2018-08-11 05:05:02.900</td>\n",
       "      <td>dd.two-way.normal.26</td>\n",
       "      <td>Success</td>\n",
       "      <td>NaN</td>\n",
       "      <td>NaN</td>\n",
       "      <td>NaN</td>\n",
       "      <td>35.571429</td>\n",
       "      <td>...</td>\n",
       "      <td>system</td>\n",
       "      <td>luo</td>\n",
       "      <td>{name}, this is {nurse} from {clinic}. Newborn...</td>\n",
       "      <td>Min Mam, ma en Mercy koa Rachuonyo. Nyitindo m...</td>\n",
       "      <td>True</td>\n",
       "      <td>False</td>\n",
       "      <td>False</td>\n",
       "      <td>False</td>\n",
       "      <td>True</td>\n",
       "      <td>0.927111</td>\n",
       "    </tr>\n",
       "    <tr>\n",
       "      <th>95</th>\n",
       "      <td>64164</td>\n",
       "      <td>501</td>\n",
       "      <td>Wed</td>\n",
       "      <td>2018-09-12 05:05:03.258</td>\n",
       "      <td>dd.two-way.normal.58</td>\n",
       "      <td>Success</td>\n",
       "      <td>NaN</td>\n",
       "      <td>NaN</td>\n",
       "      <td>NaN</td>\n",
       "      <td>40.142857</td>\n",
       "      <td>...</td>\n",
       "      <td>system</td>\n",
       "      <td>luo</td>\n",
       "      <td>{name}, this is {nurse} from {clinic}. When yo...</td>\n",
       "      <td>Min Mam, mae en Mercy mawuok Rachuonyo. Ka ich...</td>\n",
       "      <td>True</td>\n",
       "      <td>False</td>\n",
       "      <td>False</td>\n",
       "      <td>False</td>\n",
       "      <td>True</td>\n",
       "      <td>0.928592</td>\n",
       "    </tr>\n",
       "  </tbody>\n",
       "</table>\n",
       "<p>26021 rows × 25 columns</p>\n",
       "</div>"
      ],
      "text/plain": [
       "             mid  pid  day               timestamp                  auto  \\\n",
       "msg_group                                                                  \n",
       "25048      65960  776  Mon 2018-11-05 17:05:04.120  dd.two-way.normal.88   \n",
       "19192      64564  402  Mon 2018-09-17 17:05:03.970  dd.two-way.normal.88   \n",
       "18804      63265  713  Fri 2018-08-31 17:05:04.485  dd.two-way.normal.88   \n",
       "19802      65030  417  Wed 2018-09-26 05:05:03.504  dd.two-way.normal.88   \n",
       "...          ...  ...  ...                     ...                   ...   \n",
       "92         63406  501  Mon 2018-09-03 05:05:03.100  dd.two-way.normal.49   \n",
       "96         64398  501  Sat 2018-09-15 05:05:03.465  dd.two-way.normal.61   \n",
       "84         61196  501  Sat 2018-08-11 05:05:02.900  dd.two-way.normal.26   \n",
       "95         64164  501  Wed 2018-09-12 05:05:03.258  dd.two-way.normal.58   \n",
       "\n",
       "          external delta_human  delta  delta_last   study_wk  ...  sent_by  \\\n",
       "msg_group                                                     ...            \n",
       "25048      Success         NaN    NaN         NaN  26.000000  ...   system   \n",
       "19192      Success         NaN    NaN         NaN  25.571429  ...   system   \n",
       "18804      Success         NaN    NaN         NaN  23.428571  ...   system   \n",
       "19802      Success         NaN    NaN         NaN  24.857143  ...   system   \n",
       "...            ...         ...    ...         ...        ...  ...      ...   \n",
       "92         Success         NaN    NaN         NaN  38.857143  ...   system   \n",
       "96         Success         NaN    NaN         NaN  40.571429  ...   system   \n",
       "84         Success         NaN    NaN         NaN  35.571429  ...   system   \n",
       "95         Success         NaN    NaN         NaN  40.142857  ...   system   \n",
       "\n",
       "           language                                         translated  \\\n",
       "msg_group                                                                \n",
       "25048       english                                                NaN   \n",
       "19192       english                                                NaN   \n",
       "18804       english                                                NaN   \n",
       "19802       english                                                NaN   \n",
       "...             ...                                                ...   \n",
       "92              luo  {name}, this is {nurse} from {clinic}. Have yo...   \n",
       "96              luo  {name}, this is {nurse} from {clinic}. Crying ...   \n",
       "84              luo  {name}, this is {nurse} from {clinic}. Newborn...   \n",
       "95              luo  {name}, this is {nurse} from {clinic}. When yo...   \n",
       "\n",
       "                                                    original  system_msg  \\\n",
       "msg_group                                                                  \n",
       "25048      Pam, this is Mercy from Rachuonyo. Thank you f...        True   \n",
       "19192      Sarah, this is Brenda from Mathare. Thank you ...        True   \n",
       "18804      Vicky, this is Mercy from Rachuonyo. Thank you...        True   \n",
       "19802      Betty, this is Brenda from Mathare. Thank you ...        True   \n",
       "...                                                      ...         ...   \n",
       "92         Min Mam, mae en Mercy mawuok Rachuonyo. Be ise...        True   \n",
       "96         Min Mam, mae en Mercy mawuok Rachuonyo. Yuak m...        True   \n",
       "84         Min Mam, ma en Mercy koa Rachuonyo. Nyitindo m...        True   \n",
       "95         Min Mam, mae en Mercy mawuok Rachuonyo. Ka ich...        True   \n",
       "\n",
       "          response swahili english    luo        pr  \n",
       "msg_group                                            \n",
       "25048         True   False    True  False  0.060458  \n",
       "19192         True   False    True  False  0.072909  \n",
       "18804         True   False    True  False  0.080740  \n",
       "19802         True   False    True  False  0.080740  \n",
       "...            ...     ...     ...    ...       ...  \n",
       "92           False   False   False   True  0.923770  \n",
       "96           False   False   False   True  0.926740  \n",
       "84           False   False   False   True  0.927111  \n",
       "95           False   False   False   True  0.928592  \n",
       "\n",
       "[26021 rows x 25 columns]"
      ]
     },
     "execution_count": 50,
     "metadata": {},
     "output_type": "execute_result"
    }
   ],
   "source": [
    "systemMesaagesDF['pr'] = pr[:,0]\n",
    "systemMesaagesDF.sort_values('pr')"
   ]
  }
 ],
 "metadata": {
  "kernelspec": {
   "display_name": "Python 3",
   "language": "python",
   "name": "python3"
  },
  "language_info": {
   "codemirror_mode": {
    "name": "ipython",
    "version": 3
   },
   "file_extension": ".py",
   "mimetype": "text/x-python",
   "name": "python",
   "nbconvert_exporter": "python",
   "pygments_lexer": "ipython3",
   "version": "3.7.3"
  }
 },
 "nbformat": 4,
 "nbformat_minor": 2
}
