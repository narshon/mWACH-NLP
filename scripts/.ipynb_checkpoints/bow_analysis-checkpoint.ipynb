{
 "cells": [
  {
   "cell_type": "markdown",
   "metadata": {},
   "source": [
    "\n",
    "# Predicting probability of a response message using Bag of Words"
   ]
  },
  {
   "cell_type": "code",
   "execution_count": 4,
   "metadata": {},
   "outputs": [],
   "source": [
    "import pandas as pd\n",
    "import numpy as np\n",
    "import matplotlib.pyplot as plt\n",
    "import sklearn.linear_model\n",
    "from sklearn.feature_extraction.text import CountVectorizer\n",
    "from sklearn.model_selection import train_test_split\n",
    "from sklearn.metrics import roc_auc_score\n",
    "from sklearn.metrics import accuracy_score\n",
    "from sklearn.model_selection import RepeatedKFold\n",
    "import sklearn.ensemble\n",
    "import statistics\n",
    "pd.set_option('display.max_rows', 4)"
   ]
  },
  {
   "cell_type": "markdown",
   "metadata": {},
   "source": [
    "Load the dataset and create a corpus text"
   ]
  },
  {
   "cell_type": "code",
   "execution_count": 5,
   "metadata": {},
   "outputs": [
    {
     "data": {
      "text/html": [
       "<div>\n",
       "<style scoped>\n",
       "    .dataframe tbody tr th:only-of-type {\n",
       "        vertical-align: middle;\n",
       "    }\n",
       "\n",
       "    .dataframe tbody tr th {\n",
       "        vertical-align: top;\n",
       "    }\n",
       "\n",
       "    .dataframe thead th {\n",
       "        text-align: right;\n",
       "    }\n",
       "</style>\n",
       "<table border=\"1\" class=\"dataframe\">\n",
       "  <thead>\n",
       "    <tr style=\"text-align: right;\">\n",
       "      <th></th>\n",
       "      <th>mid</th>\n",
       "      <th>pid</th>\n",
       "      <th>day</th>\n",
       "      <th>timestamp</th>\n",
       "      <th>auto</th>\n",
       "      <th>external</th>\n",
       "      <th>delta_human</th>\n",
       "      <th>delta</th>\n",
       "      <th>delta_last</th>\n",
       "      <th>study_wk</th>\n",
       "      <th>edd_wk</th>\n",
       "      <th>chars</th>\n",
       "      <th>words</th>\n",
       "      <th>topic</th>\n",
       "      <th>related</th>\n",
       "      <th>sent_by</th>\n",
       "      <th>language</th>\n",
       "      <th>translated</th>\n",
       "      <th>original</th>\n",
       "    </tr>\n",
       "  </thead>\n",
       "  <tbody>\n",
       "    <tr>\n",
       "      <th>0</th>\n",
       "      <td>808</td>\n",
       "      <td>15</td>\n",
       "      <td>Tue</td>\n",
       "      <td>2017-12-05 06:36:59.614</td>\n",
       "      <td>signup.two-way.normal.0</td>\n",
       "      <td>Success</td>\n",
       "      <td>NaN</td>\n",
       "      <td>NaN</td>\n",
       "      <td>NaN</td>\n",
       "      <td>0.000000</td>\n",
       "      <td>-9.000000</td>\n",
       "      <td>250</td>\n",
       "      <td>42</td>\n",
       "      <td>NaN</td>\n",
       "      <td>NaN</td>\n",
       "      <td>system</td>\n",
       "      <td>swahili</td>\n",
       "      <td>Welcome to Mobile WACh NEO! Good job coming in...</td>\n",
       "      <td>Karibu kwa Mobile WACh NEO. Kazi nzuri kwa kuj...</td>\n",
       "    </tr>\n",
       "    <tr>\n",
       "      <th>1</th>\n",
       "      <td>859</td>\n",
       "      <td>15</td>\n",
       "      <td>Tue</td>\n",
       "      <td>2017-12-05 06:55:45.982</td>\n",
       "      <td>NaN</td>\n",
       "      <td>NaN</td>\n",
       "      <td>18m</td>\n",
       "      <td>1.126367e+03</td>\n",
       "      <td>NaN</td>\n",
       "      <td>0.000000</td>\n",
       "      <td>-9.000000</td>\n",
       "      <td>30</td>\n",
       "      <td>4</td>\n",
       "      <td>validation</td>\n",
       "      <td>1.0</td>\n",
       "      <td>participant</td>\n",
       "      <td>english</td>\n",
       "      <td>NaN</td>\n",
       "      <td>Validation Code Correct: 13514</td>\n",
       "    </tr>\n",
       "    <tr>\n",
       "      <th>...</th>\n",
       "      <td>...</td>\n",
       "      <td>...</td>\n",
       "      <td>...</td>\n",
       "      <td>...</td>\n",
       "      <td>...</td>\n",
       "      <td>...</td>\n",
       "      <td>...</td>\n",
       "      <td>...</td>\n",
       "      <td>...</td>\n",
       "      <td>...</td>\n",
       "      <td>...</td>\n",
       "      <td>...</td>\n",
       "      <td>...</td>\n",
       "      <td>...</td>\n",
       "      <td>...</td>\n",
       "      <td>...</td>\n",
       "      <td>...</td>\n",
       "      <td>...</td>\n",
       "      <td>...</td>\n",
       "    </tr>\n",
       "    <tr>\n",
       "      <th>59504</th>\n",
       "      <td>56843</td>\n",
       "      <td>800</td>\n",
       "      <td>Sun</td>\n",
       "      <td>2018-07-15 17:05:23.401</td>\n",
       "      <td>edd.two-way.normal.14</td>\n",
       "      <td>Failed</td>\n",
       "      <td>NaN</td>\n",
       "      <td>NaN</td>\n",
       "      <td>NaN</td>\n",
       "      <td>8.714286</td>\n",
       "      <td>2.000000</td>\n",
       "      <td>252</td>\n",
       "      <td>41</td>\n",
       "      <td>42 weeks</td>\n",
       "      <td>NaN</td>\n",
       "      <td>system</td>\n",
       "      <td>swahili</td>\n",
       "      <td>{name}, this is {nurse} from {clinic} Bad swel...</td>\n",
       "      <td>Linet, huyu ni Mercy kutoka Rachuonyo. kufura ...</td>\n",
       "    </tr>\n",
       "    <tr>\n",
       "      <th>59505</th>\n",
       "      <td>67270</td>\n",
       "      <td>800</td>\n",
       "      <td>Mon</td>\n",
       "      <td>2019-02-04 06:31:09.703</td>\n",
       "      <td>NaN</td>\n",
       "      <td>Failed</td>\n",
       "      <td>258d 20h 7m</td>\n",
       "      <td>2.236368e+07</td>\n",
       "      <td>NaN</td>\n",
       "      <td>37.857143</td>\n",
       "      <td>31.142857</td>\n",
       "      <td>354</td>\n",
       "      <td>58</td>\n",
       "      <td>NaN</td>\n",
       "      <td>NaN</td>\n",
       "      <td>nurse</td>\n",
       "      <td>NaN</td>\n",
       "      <td>{name}, this is {nurse} from {clinic}. Thank y...</td>\n",
       "      <td>Linet, huyu ni Mercy kutoka kwa Rachuonyo. Asa...</td>\n",
       "    </tr>\n",
       "  </tbody>\n",
       "</table>\n",
       "<p>59506 rows × 19 columns</p>\n",
       "</div>"
      ],
      "text/plain": [
       "         mid  pid  day               timestamp                     auto  \\\n",
       "0        808   15  Tue 2017-12-05 06:36:59.614  signup.two-way.normal.0   \n",
       "1        859   15  Tue 2017-12-05 06:55:45.982                      NaN   \n",
       "...      ...  ...  ...                     ...                      ...   \n",
       "59504  56843  800  Sun 2018-07-15 17:05:23.401    edd.two-way.normal.14   \n",
       "59505  67270  800  Mon 2019-02-04 06:31:09.703                      NaN   \n",
       "\n",
       "      external   delta_human         delta  delta_last   study_wk     edd_wk  \\\n",
       "0      Success           NaN           NaN         NaN   0.000000  -9.000000   \n",
       "1          NaN          18m   1.126367e+03         NaN   0.000000  -9.000000   \n",
       "...        ...           ...           ...         ...        ...        ...   \n",
       "59504   Failed           NaN           NaN         NaN   8.714286   2.000000   \n",
       "59505   Failed  258d 20h 7m   2.236368e+07         NaN  37.857143  31.142857   \n",
       "\n",
       "       chars  words       topic  related      sent_by language  \\\n",
       "0        250     42         NaN      NaN       system  swahili   \n",
       "1         30      4  validation      1.0  participant  english   \n",
       "...      ...    ...         ...      ...          ...      ...   \n",
       "59504    252     41    42 weeks      NaN       system  swahili   \n",
       "59505    354     58         NaN      NaN        nurse      NaN   \n",
       "\n",
       "                                              translated  \\\n",
       "0      Welcome to Mobile WACh NEO! Good job coming in...   \n",
       "1                                                    NaN   \n",
       "...                                                  ...   \n",
       "59504  {name}, this is {nurse} from {clinic} Bad swel...   \n",
       "59505  {name}, this is {nurse} from {clinic}. Thank y...   \n",
       "\n",
       "                                                original  \n",
       "0      Karibu kwa Mobile WACh NEO. Kazi nzuri kwa kuj...  \n",
       "1                         Validation Code Correct: 13514  \n",
       "...                                                  ...  \n",
       "59504  Linet, huyu ni Mercy kutoka Rachuonyo. kufura ...  \n",
       "59505  Linet, huyu ni Mercy kutoka kwa Rachuonyo. Asa...  \n",
       "\n",
       "[59506 rows x 19 columns]"
      ]
     },
     "execution_count": 5,
     "metadata": {},
     "output_type": "execute_result"
    }
   ],
   "source": [
    "messages_df = pd.read_excel(\"C:/Users/user/UW/keshet - mwach_interaction/SMSdata/mwachNeo/allSMSdatabase/messages_export_2019-03-05.xlsx\")\n",
    "messages_df"
   ]
  },
  {
   "cell_type": "code",
   "execution_count": 3,
   "metadata": {},
   "outputs": [
    {
     "data": {
      "text/html": [
       "<div>\n",
       "<style scoped>\n",
       "    .dataframe tbody tr th:only-of-type {\n",
       "        vertical-align: middle;\n",
       "    }\n",
       "\n",
       "    .dataframe tbody tr th {\n",
       "        vertical-align: top;\n",
       "    }\n",
       "\n",
       "    .dataframe thead th {\n",
       "        text-align: right;\n",
       "    }\n",
       "</style>\n",
       "<table border=\"1\" class=\"dataframe\">\n",
       "  <thead>\n",
       "    <tr style=\"text-align: right;\">\n",
       "      <th></th>\n",
       "      <th>today</th>\n",
       "      <th>start</th>\n",
       "      <th>end</th>\n",
       "      <th>site_hand</th>\n",
       "      <th>group1studyid_p2</th>\n",
       "      <th>ptidno</th>\n",
       "      <th>studyid_p2re</th>\n",
       "      <th>group3en_scrid_site</th>\n",
       "      <th>group3en_scrid_id</th>\n",
       "      <th>en_scrid</th>\n",
       "      <th>...</th>\n",
       "      <th>ip_afraid</th>\n",
       "      <th>comment</th>\n",
       "      <th>metainstanceID</th>\n",
       "      <th>group17te_topuphow5</th>\n",
       "      <th>te_topuphow_sp</th>\n",
       "      <th>te_simnum</th>\n",
       "      <th>te_carrier</th>\n",
       "      <th>en_planafterdel</th>\n",
       "      <th>en_whereafterdel</th>\n",
       "      <th>en_whereafterdel_sp</th>\n",
       "    </tr>\n",
       "  </thead>\n",
       "  <tbody>\n",
       "    <tr>\n",
       "      <th>0</th>\n",
       "      <td>2017-12-05</td>\n",
       "      <td>12-5-17 7:58</td>\n",
       "      <td>12-5-17 8:20</td>\n",
       "      <td>Mathare</td>\n",
       "      <td>1</td>\n",
       "      <td>42110001</td>\n",
       "      <td>1</td>\n",
       "      <td>Mathare</td>\n",
       "      <td>17</td>\n",
       "      <td>Nov-17</td>\n",
       "      <td>...</td>\n",
       "      <td>No</td>\n",
       "      <td>ENROLLED SUCCESSFULLY</td>\n",
       "      <td>uuid:49ab8466-159d-4513-9e21-ae9353de78b3</td>\n",
       "      <td>NaN</td>\n",
       "      <td></td>\n",
       "      <td>NaN</td>\n",
       "      <td>NaN</td>\n",
       "      <td>NaN</td>\n",
       "      <td>NaN</td>\n",
       "      <td>NaN</td>\n",
       "    </tr>\n",
       "    <tr>\n",
       "      <th>1</th>\n",
       "      <td>2017-12-05</td>\n",
       "      <td>12-5-17 8:30</td>\n",
       "      <td>12-5-17 8:39</td>\n",
       "      <td>Mathare</td>\n",
       "      <td>2</td>\n",
       "      <td>42110002</td>\n",
       "      <td>2</td>\n",
       "      <td>Rachuonyo</td>\n",
       "      <td>18</td>\n",
       "      <td>46-18</td>\n",
       "      <td>...</td>\n",
       "      <td>No</td>\n",
       "      <td>ENROLLED SUCCESSFULLY</td>\n",
       "      <td>uuid:4e82e0d9-6882-4e18-8028-ae60d1deec6a</td>\n",
       "      <td>NaN</td>\n",
       "      <td></td>\n",
       "      <td>NaN</td>\n",
       "      <td>NaN</td>\n",
       "      <td>NaN</td>\n",
       "      <td>NaN</td>\n",
       "      <td>NaN</td>\n",
       "    </tr>\n",
       "    <tr>\n",
       "      <th>...</th>\n",
       "      <td>...</td>\n",
       "      <td>...</td>\n",
       "      <td>...</td>\n",
       "      <td>...</td>\n",
       "      <td>...</td>\n",
       "      <td>...</td>\n",
       "      <td>...</td>\n",
       "      <td>...</td>\n",
       "      <td>...</td>\n",
       "      <td>...</td>\n",
       "      <td>...</td>\n",
       "      <td>...</td>\n",
       "      <td>...</td>\n",
       "      <td>...</td>\n",
       "      <td>...</td>\n",
       "      <td>...</td>\n",
       "      <td>...</td>\n",
       "      <td>...</td>\n",
       "      <td>...</td>\n",
       "      <td>...</td>\n",
       "      <td>...</td>\n",
       "    </tr>\n",
       "    <tr>\n",
       "      <th>796</th>\n",
       "      <td>2018-05-15</td>\n",
       "      <td>5-15-18 9:04</td>\n",
       "      <td>5-15-18 9:14</td>\n",
       "      <td>Rachuonyo</td>\n",
       "      <td>799</td>\n",
       "      <td>42460799</td>\n",
       "      <td>799</td>\n",
       "      <td>Rachuonyo</td>\n",
       "      <td>865</td>\n",
       "      <td>46-865</td>\n",
       "      <td>...</td>\n",
       "      <td>No</td>\n",
       "      <td>Enrolled</td>\n",
       "      <td>uuid:6e73839b-6494-478e-9dad-5252216f2e16</td>\n",
       "      <td>NaN</td>\n",
       "      <td></td>\n",
       "      <td>2.0</td>\n",
       "      <td>Safaricom</td>\n",
       "      <td>Yes</td>\n",
       "      <td>NaN</td>\n",
       "      <td>NaN</td>\n",
       "    </tr>\n",
       "    <tr>\n",
       "      <th>797</th>\n",
       "      <td>2018-05-15</td>\n",
       "      <td>5-15-18 9:40</td>\n",
       "      <td>5-15-18 9:49</td>\n",
       "      <td>Rachuonyo</td>\n",
       "      <td>800</td>\n",
       "      <td>42460800</td>\n",
       "      <td>800</td>\n",
       "      <td>Rachuonyo</td>\n",
       "      <td>1054</td>\n",
       "      <td>46-1054</td>\n",
       "      <td>...</td>\n",
       "      <td>No</td>\n",
       "      <td>Enrolled</td>\n",
       "      <td>uuid:65ca53ad-ab4a-44a1-b93e-97ae0156909d</td>\n",
       "      <td>NaN</td>\n",
       "      <td></td>\n",
       "      <td>2.0</td>\n",
       "      <td>Safaricom</td>\n",
       "      <td>Yes</td>\n",
       "      <td>NaN</td>\n",
       "      <td>NaN</td>\n",
       "    </tr>\n",
       "  </tbody>\n",
       "</table>\n",
       "<p>798 rows × 256 columns</p>\n",
       "</div>"
      ],
      "text/plain": [
       "         today         start           end  site_hand  group1studyid_p2  \\\n",
       "0   2017-12-05  12-5-17 7:58  12-5-17 8:20    Mathare                 1   \n",
       "1   2017-12-05  12-5-17 8:30  12-5-17 8:39    Mathare                 2   \n",
       "..         ...           ...           ...        ...               ...   \n",
       "796 2018-05-15  5-15-18 9:04  5-15-18 9:14  Rachuonyo               799   \n",
       "797 2018-05-15  5-15-18 9:40  5-15-18 9:49  Rachuonyo               800   \n",
       "\n",
       "       ptidno  studyid_p2re group3en_scrid_site  group3en_scrid_id en_scrid  \\\n",
       "0    42110001             1             Mathare                 17   Nov-17   \n",
       "1    42110002             2           Rachuonyo                 18    46-18   \n",
       "..        ...           ...                 ...                ...      ...   \n",
       "796  42460799           799           Rachuonyo                865   46-865   \n",
       "797  42460800           800           Rachuonyo               1054  46-1054   \n",
       "\n",
       "     ... ip_afraid                comment  \\\n",
       "0    ...        No  ENROLLED SUCCESSFULLY   \n",
       "1    ...        No  ENROLLED SUCCESSFULLY   \n",
       "..   ...       ...                    ...   \n",
       "796  ...        No               Enrolled   \n",
       "797  ...        No               Enrolled   \n",
       "\n",
       "                                metainstanceID  group17te_topuphow5  \\\n",
       "0    uuid:49ab8466-159d-4513-9e21-ae9353de78b3                  NaN   \n",
       "1    uuid:4e82e0d9-6882-4e18-8028-ae60d1deec6a                  NaN   \n",
       "..                                         ...                  ...   \n",
       "796  uuid:6e73839b-6494-478e-9dad-5252216f2e16                  NaN   \n",
       "797  uuid:65ca53ad-ab4a-44a1-b93e-97ae0156909d                  NaN   \n",
       "\n",
       "     te_topuphow_sp te_simnum  te_carrier en_planafterdel en_whereafterdel  \\\n",
       "0                         NaN         NaN             NaN              NaN   \n",
       "1                         NaN         NaN             NaN              NaN   \n",
       "..              ...       ...         ...             ...              ...   \n",
       "796                       2.0   Safaricom             Yes              NaN   \n",
       "797                       2.0   Safaricom             Yes              NaN   \n",
       "\n",
       "    en_whereafterdel_sp  \n",
       "0                   NaN  \n",
       "1                   NaN  \n",
       "..                  ...  \n",
       "796                 NaN  \n",
       "797                 NaN  \n",
       "\n",
       "[798 rows x 256 columns]"
      ]
     },
     "execution_count": 3,
     "metadata": {},
     "output_type": "execute_result"
    }
   ],
   "source": [
    "p_data = pd.io.stata.read_stata('C:/Users/user/UW/keshet - mwach_interaction/ParticipantData/mwachNeo/NEO_Enrollment_Interview.dta')\n",
    "p_data"
   ]
  },
  {
   "cell_type": "code",
   "execution_count": 4,
   "metadata": {},
   "outputs": [
    {
     "name": "stdout",
     "output_type": "stream",
     "text": [
      "Number of System Messages:  26021\n"
     ]
    }
   ],
   "source": [
    "messages_df['system_msg'] = (messages_df['sent_by']=='system')\n",
    "print(\"Number of System Messages: \", messages_df['system_msg'].sum())"
   ]
  },
  {
   "cell_type": "code",
   "execution_count": 6,
   "metadata": {},
   "outputs": [
    {
     "data": {
      "text/plain": [
       "7115     190\n",
       "24446     39\n",
       "        ... \n",
       "17924      1\n",
       "2047       1\n",
       "Name: msg_group, Length: 26021, dtype: int64"
      ]
     },
     "execution_count": 6,
     "metadata": {},
     "output_type": "execute_result"
    }
   ],
   "source": [
    "#We need to know number of responses each system message received. --- we will come back later to remove nurse messages\n",
    "messages_df['msg_group'] = messages_df.system_msg.cumsum()\n",
    "messages_df.msg_group.value_counts()"
   ]
  },
  {
   "cell_type": "code",
   "execution_count": 7,
   "metadata": {},
   "outputs": [],
   "source": [
    "#Our responses vector is all those messages with a value count of more than 1\n",
    "response = (messages_df.msg_group.value_counts() > 1)"
   ]
  },
  {
   "cell_type": "code",
   "execution_count": 10,
   "metadata": {},
   "outputs": [
    {
     "data": {
      "text/plain": [
       "(26021, 24)"
      ]
     },
     "execution_count": 10,
     "metadata": {},
     "output_type": "execute_result"
    }
   ],
   "source": [
    "#Creating the systemMessage DataFrame to define our features.\n",
    "systemMesaagesDF = messages_df[messages_df.sent_by == \"system\"]\n",
    "systemMesaagesDF = systemMesaagesDF.set_index('msg_group')\n",
    "systemMesaagesDF['response'] = response\n",
    "systemMesaagesDF['swahili'] = systemMesaagesDF.language == 'swahili'\n",
    "systemMesaagesDF['english'] = systemMesaagesDF.language == 'english'\n",
    "systemMesaagesDF['luo'] = systemMesaagesDF.language == 'luo'\n",
    "systemMesaagesDF.shape"
   ]
  },
  {
   "cell_type": "code",
   "execution_count": 11,
   "metadata": {},
   "outputs": [],
   "source": [
    "#Let's now filter the columns and convert them to float.\n",
    "X = systemMesaagesDF.filter(['edd_wk', 'chars', 'words', 'swahili', 'english', 'luo']).astype(np.float32)\n",
    "y = systemMesaagesDF.response.astype(np.float32)"
   ]
  },
  {
   "cell_type": "code",
   "execution_count": 12,
   "metadata": {},
   "outputs": [
    {
     "data": {
      "text/plain": [
       "array(['Karibu kwa Mobile WACh NEO. Kazi nzuri kwa kuja kwa ziara yako ya kliniki! Utapokea SMS kila wiki ambayo itakusaidia wakati wa ujauzito na miaka mbili za kwanza za maisha ya mtoto wako.Tafadhali tutumie SMS na uuulize maswali au mashaka yoyote unayo.',\n",
       "       'Mama Lucas, huyu ni Brenda kutoka Mathare. Wakati mwingine matatizo hutokea wakati unaumwa na wakati wa kujifungua, kama kutokwa na damu au mishtuko ya kifafa , ambayo yanahitaji wafanyakazi wa afya wenye ujuzi, dawa na vifaa vya kutibu. Bila matibabu hayo, mama na mtoto wanaweza kufariki. Kwa hivyo ni salama kabisa kujifungua katika kituo ambacho kinaweza kushughulikia matatizo haya na mengine zaidi. Utafikaje kwenye kituo?',\n",
       "       'Mama Lucas, huyu ni Brenda kutoka Mathare. kufura vibaya kwa mikono na uso au kuumwa vibaya na kichwa ni ishara ya shida. Ambia familia yako wakupeleke kliniki wakiona haya. Umekuwa na kufura yoyote au kuumwa na kichwa kwa huu ujauzito? Zinaendelea kuzidi?',\n",
       "       ...,\n",
       "       'Linet, huyu ni Mercy kutoka Rachuonyo. kunyonyesha mtoto punde anapozaliwa husaidia maziwa kutoka. Maziwa ya kwanza ya manjano yana vitamini mingi na huzuia mtoto kutokana na magonjwa. Maziwa yana maji yote ambayo mtoto anahitaji,jiepushe na vinywaji vingine. Umepanga kunyonyesha?',\n",
       "       'Linet, huyu ni Mercy kutoka Rachuonyo. Umejifunguwa? Tuko hapa kwa ajili yako. Tafadhali tujulishe mara tu unapojifunguwa ili tuweze kukusaidia baada ya mtoto kuzaliwa.',\n",
       "       'Linet, huyu ni Mercy kutoka Rachuonyo. kufura vibaya kwa mikono na uso au kuumwa vibaya na kichwa ni ishara ya shida. Ambia familia yako wakupeleke kliniki wakiona haya. Umekuwa na kufura yoyote au kuumwa na kichwa kwa huu ujauzito? Zinaendelea kuzidi?'],\n",
       "      dtype=object)"
      ]
     },
     "execution_count": 12,
     "metadata": {},
     "output_type": "execute_result"
    }
   ],
   "source": [
    "#Lets create our text corpus\n",
    "X_text = systemMesaagesDF.original.astype('str')\n",
    "corpus = X_text.values\n",
    "corpus"
   ]
  },
  {
   "cell_type": "code",
   "execution_count": 13,
   "metadata": {},
   "outputs": [
    {
     "name": "stdout",
     "output_type": "stream",
     "text": [
      "['14', '15', '30', '4th', '60', 'aache', 'abby', 'abdomen', 'abel', 'abich', 'abigael', 'able', 'abnormal', 'aboro', 'about', 'aboy', 'acheng', 'achiel', 'achieng', 'achieng07', 'across', 'active', 'adek', 'adhiambo', 'adjust', 'ado', 'adory', 'aduda', 'advice', 'after', 'afternoon', 'afya', 'again', 'against', 'age', 'agnes', 'agness', 'ahinya', 'aina', 'aisha', 'ajenya', 'ajili', 'akeyo', 'akicheza', 'akifikia', 'akifikisha', 'akijinyoosha', 'akilia', 'akinyi', 'akiwa', 'ako', 'albert', 'alex', 'alice', 'aliciah', 'alikuwa', 'aliviza', 'all', 'allowing', 'alopozaliwa', 'alphine', 'also', 'aluoch', 'always', 'amani', 'ambacho', 'ambako', 'ambao', 'ambayo', 'ambeza', 'ambia', 'amealala', 'ameanza', 'amefikisha', 'amelala', 'amepokea', 'amina', 'aminga', 'amora', 'an', 'ana', 'anaacha', 'anaenda', 'anaendeleaje', 'anafikia', 'anahitaji', 'anajinyoosha', 'anakuwa', 'analala', 'analia', 'ananyonya', 'anaonekana', 'anapaswa', 'anapozaliwa', 'anasumbua', 'anatoa', 'anaumwa', 'anaweza', 'anayetumia', 'and', 'ane', 'ang', 'angalia', 'angel', 'angela', 'angie', 'angwen', 'anita', 'anjeline', 'ann', 'another', 'antenatal', 'anxious', 'any', 'anyone', 'anything', 'aoko', 'apar', 'aphline', 'appretite', 'aquino', 'are', 'area', 'arise', 'ariyo', 'arm', 'arms', 'arrive', 'arrives', 'as', 'asante', 'asha', 'ashley', 'asili', 'ask', 'asleep', 'assist', 'at', 'atafanya', 'athieno', 'athur', 'atieno', 'atieno07', 'ato', 'attention', 'au', 'auchiel', 'auma', 'aus', 'avoid', 'awake', 'awali', 'awuor', 'aziza', 'baada', 'baadhi', 'babay', 'babies', 'baby', 'back', 'bad', 'bade', 'badene', 'badi', 'bado', 'bakita', 'bamni', 'ban', 'bang', 'bar', 'baridi', 'bashir', 'baths', 'batia', 'baya', 'be', 'beatrice', 'because', 'becomes', 'bedo', 'been', 'before', 'belinda', 'belly', 'ben', 'bende', 'bendo', 'benta', 'ber', 'beril', 'beryl', 'best', 'betty', 'bila', 'biro', 'bironegi', 'birth', 'bleeding', 'bleeidng', 'bless', 'blessing', 'blood', 'body', 'bones', 'bora', 'boss', 'both', 'bottle', 'bravin', 'breast', 'breastfed', 'breastfeed', 'breastfeeding', 'breath', 'breathing', 'breaths', 'brenda', 'brian', 'bridgit', 'brighton', 'brilliant', 'bring', 'bryan', 'bryson', 'bulge', 'buonjo', 'buoyo', 'but', 'by', 'cady', 'caleb', 'can', 'canal', 'care', 'caren', 'caro', 'carol', 'caroline', 'carren', 'catherine', 'cathy', 'cause', 'cha', 'chache', 'chafu', 'chaguo', 'chak', 'chake', 'chako', 'chakore', 'chakula', 'challenges', 'chandruogegi', 'chandruok', 'changamoto', 'change', 'chango', 'chanjo', 'chao', 'charity', 'charles', 'check', 'checking', 'chemutai', 'chenro', 'chep', 'chiegni', 'chiemo', 'chieng', 'children', 'chini', 'chiw', 'chochote', 'chogo', 'choice', 'chop', 'chopo', 'chosen', 'chris', 'christine', 'christne', 'chuer', 'chung', 'chunge', 'chungo', 'chungu', 'chuok', 'chupa', 'chwer', 'clanis', 'clean', 'cleans', 'clinic', 'clint', 'clinton', 'clothes', 'coil', 'cold', 'colic', 'colletah', 'collins', 'color', 'come', 'comfort', 'coming', 'common', 'concerning', 'concerns', 'congratulations', 'consolata', 'contractions', 'convulsions', 'cord', 'cotton', 'could', 'count', 'crawling', 'cries', 'cry', 'crying', 'cynthia', 'dabby', 'daddy', 'dady', 'daher', 'daika', 'daina0', 'daisy', 'dakika', 'daktari', 'dama', 'damaris', 'damian', 'damson', 'damu', 'dan', 'danger', 'dani', 'daniel', 'dark', 'darren', 'daughter', 'dawa', 'day', 'days', 'debra', 'decisions', 'dehydration', 'del', 'deliah', 'deliver', 'delivering', 'delivery', 'dende', 'dendi', 'dennis', 'denno', 'derick', 'derro', 'develop', 'development', 'dhadhu', 'dhaifu', 'dhi', 'dhidi', 'dhodho', 'dhoge', 'dhogi', 'dhoth', 'di', 'diana', 'diaper', 'dibed', 'dichiel', 'dickens', 'did', 'didah', 'didek', 'die', 'diffculty', 'different', 'differently', 'difficulty', 'digomb', 'diher', 'dinah', 'dipo', 'discharge', 'distressing', 'divinah', 'do', 'doctor', 'does', 'doesn', 'doing', 'dolly', 'dongo', 'dorcas', 'dorcus', 'doreen', 'dorine', 'doris', 'doros', 'dorothy', 'dorry', 'dotty', 'down', 'dpt', 'dry', 'due', 'duke', 'duoko', 'during', 'dwa', 'dwaro', 'dwe', 'dweche', 'each', 'easy', 'ebby', 'edend', 'edith', 'edwe', 'edwin', 'ee', 'effective', 'effects', 'ejumbe', 'eklinik', 'elegant', 'elimbeni', 'eliza', 'elizabeth', 'elsy', 'elvis', 'ema', 'emelda', 'emily', 'emma', 'emmah', 'emmanuel', 'en', 'end', 'endalo', 'eneo', 'enjoy', 'ensure', 'eny', 'epend', 'equipment', 'eric', 'erokakamo', 'erokamano', 'esa', 'esaa', 'especially', 'esther', 'eugine', 'eunice', 'eunice0', 'euny', 'euphy', 'eva', 'evans', 'evelyne', 'even', 'evening', 'ever', 'everline', 'everlyne', 'ewi', 'ewiye', 'exeprience', 'experience', 'eyo', 'eyor', 'face', 'facility', 'faim', 'faith', 'fall', 'familia', 'family', 'fanya', 'fast', 'faster', 'fatigued', 'fay', 'feed', 'feeding', 'feedings', 'feel', 'feeling', 'feet', 'feli', 'felix', 'fenny', 'fever', 'fevers', 'few', 'fey', 'fidel', 'fikiria', 'final', 'finley', 'first', 'fits', 'flares', 'flo', 'flocia', 'flozy', 'fluid', 'fontanelle', 'fontanelles', 'food', 'foot', 'for', 'fortune', 'forward', 'fredinah', 'frequent', 'freshman', 'from', 'fuondege', 'furahia', 'fused', 'fussy', 'future', 'fuvu', 'ga', 'gagging', 'gem', 'gengo', 'get', 'getrude', 'gets', 'getting', 'gi', 'gichamo', 'gidhodho', 'gido', 'gift', 'gigi', 'gik', 'gilokore', 'gima', 'gimedore', 'gimoro', 'gin', 'give', 'giwach', 'giza', 'glado', 'gladys', 'gloria', 'go', 'godhiambo', 'gody', 'going', 'gol', 'golo', 'good', 'goreti', 'goruok', 'gotieno', 'grace', 'grace07', 'grano', 'grasp', 'great', 'greg', 'growing', 'grunting', 'hachezi', 'had', 'hadi', 'hagai', 'hahisi', 'haijaunganishwa', 'haimaanishi', 'haja', 'hajinyooshi', 'hajinyoroshi', 'hakikisha', 'halima', 'hamu', 'hana', 'hands', 'hannah', 'hanyonyi', 'haore', 'hapa', 'happens', 'happy', 'haraka', 'harriet', 'harufu', 'has', 'haswa', 'hata', 'hatari', 'have', 'haven', 'having', 'hawawezi', 'haya', 'hayo', 'hayuko', 'haziwezi', 'head', 'headache', 'headaches', 'healing', 'health', 'healthy', 'heavy', 'hellen', 'help', 'helpful', 'helps', 'henrica', 'her', 'here', 'higni', 'hii', 'hilda', 'hilo', 'him', 'his', 'hivi', 'hivyo', 'hiyo', 'hizi', 'hold', 'homa', 'hongera', 'hope', 'hospital', 'hospitalini', 'hot', 'hours', 'how', 'huduma', 'huenda', 'hufanya', 'hugeuza', 'huisha', 'hulala', 'hulalaje', 'hulia', 'hungry', 'hunyonya', 'hupata', 'hupiga', 'hupumua', 'husafisha', 'husaidia', 'hutaki', 'hutoa', 'hutokea', 'huu', 'huwa', 'huyu', 'huzuia', 'huzuni', 'hyline', 'ian', 'ibi', 'ibigo', 'ibiro', 'ich', 'ichako', 'ichano', 'ichich', 'ichuer', 'idadi', 'idel', 'idhi', 'iduogo', 'idwuok', 'if', 'igni', 'ijayo', 'ikel', 'ikele', 'ikelo', 'ikete', 'ikijiisi', 'ikiwa', 'iko', 'ikonwa', 'ikony', 'ikonyori', 'ikwan', 'ileli', 'ili', 'ilikuwa', 'ilimwa', 'illness', 'ilok', 'iluok', 'ilwoko', 'imeingia', 'imi', 'iminza', 'immediately', 'implant', 'in', 'ina', 'inalinda', 'inapaswa', 'inaufanisi', 'inawekwa', 'inaweza', 'inayohitajika', 'includes', 'ine', 'ineno', 'inenwa', 'infant', 'infection', 'infections', 'ing', 'ingawa', 'ingeyo', 'ingi', 'ingine', 'iniere', 'injection', 'innocent', 'interact', 'intire', 'inyalo', 'inyiswa', 'inyuol', 'inziani', 'io', 'ipango', 'ipek', 'irene', 'irregular', 'irto', 'is', 'isaac', 'ise', 'isebedo', 'isebedoga', 'isefuenyo', 'isekonyori', 'iseneno', 'iseno', 'isethi', 'isetiyo', 'iseyiero', 'ishara', 'isiyo', 'iso', 'isseus', 'issues', 'it', 'itakusaidia', 'itawasaidia', 'item', 'iter', 'itimo', 'itiyo', 'iucd', 'iwe', 'iweyo', 'iwinj', 'iwinjo', 'iwuo', 'iye', 'iyi', 'iyo', 'iyudri', 'izoo', 'ja', 'jacinta', 'jack', 'jackie', 'jackline', 'jackline07', 'jacky', 'jama', 'jamila', 'jan', 'jane', 'janet', 'jaribu', 'jarumo', 'jasisa', 'jason', 'jaundice', 'je', 'jeff', 'jelix', 'jerking', 'jessica', 'jeyden', 'ji', 'jiepushe', 'jihadharini', 'jinsi', 'jinyoosha', 'jioni', 'jo', 'joan', 'job', 'joel', 'jogo', 'joining', 'joma', 'jonyuol', 'joodi', 'jose', 'joseph', 'josephine', 'joshua', 'joto', 'joy', 'joyce', 'judith', 'judy', 'juli', 'juma', 'jumani', 'jumapil', 'jumbe', 'june', 'junior', 'juniour', 'jussy', 'just', 'juu', 'ka', 'kabe', 'kabisa', 'kabla', 'kadhaa', 'kadipo', 'kadori', 'kae', 'kagea', 'kagineno', 'kagingiyo', 'kai', 'kain', 'kaintire', 'kajuju', 'kaka', 'kama', 'kamagi', 'kamulo', 'kanini', 'kanyathini', 'kanye', 'kanyo', 'kanze', 'kao', 'kaodiochieng', 'kaonindo', 'kapo', 'kapok', 'kar', 'karang', 'kare', 'kareen', 'karibu', 'karibuni', 'kaswiti', 'kata', 'kati', 'katika', 'katikati', 'katunge', 'kavasi', 'kavetse', 'kavula', 'kaw', 'kawaida', 'kawie', 'kawuok', 'kaye', 'kayo', 'kayueyo', 'kazi', 'kech', 'keep', 'keeping', 'keke', 'kel', 'kelly', 'kelo', 'ken', 'kendo', 'kept', 'keren', 'kerubo', 'ket', 'kete', 'keto', 'kevin', 'kevo', 'kiasi', 'kichwa', 'kidhodho', 'kidogo', 'kidwaro', 'kifafa', 'kifua', 'kifuani', 'kik', 'kila', 'kilichofungwa', 'kilo', 'kinachoshawishi', 'kinaweza', 'kinde', 'kineno', 'kinta', 'kipande', 'kisha', 'kit', 'kitakauka', 'kitio', 'kitovu', 'kitu', 'kituo', 'klinic', 'klinik', 'kliniki', 'know', 'koa', 'kochopo', 'kod', 'kodgi', 'kodi', 'kodiechieng', 'kodwa', 'koil', 'koko', 'komo', 'konindo', 'konye', 'konyi', 'konyo', 'konyuol', 'koro', 'kosechiemo', 'koso', 'kuangalia', 'kuangaliwa', 'kuanguka', 'kuanza', 'kubadilisha', 'kubwa', 'kuchochea', 'kuchukua', 'kufanya', 'kufariki', 'kufikia', 'kufura', 'kugusagusa', 'kuhakikisha', 'kuhesabu', 'kuhisi', 'kuhusu', 'kuimba', 'kuja', 'kujdiffcultyua', 'kujenga', 'kujibwa', 'kujifungua', 'kujifunguwa', 'kujifungwa', 'kujifunza', 'kujiunga', 'kujua', 'kukumbusha', 'kukuona', 'kukusaidia', 'kula', 'kulala', 'kulia', 'kuliko', 'kulisha', 'kuma', 'kumbembeleza', 'kumjua', 'kumkalisha', 'kumlaza', 'kumleta', 'kumpa', 'kumpeleka', 'kumsugua', 'kumtuliza', 'kuna', 'kunakukupelekaje', 'kunakupelekaje', 'kunaweza', 'kuno', 'kunyonya', 'kunyonyesha', 'kuom', 'kuomi', 'kuomwa', 'kuon', 'kuona', 'kuonde', 'kuosha', 'kuot', 'kupa', 'kupanga', 'kupata', 'kupewa', 'kupita', 'kupumua', 'kupumulia', 'kurudi', 'kuruhusu', 'kusababisha', 'kusaidia', 'kushughulikia', 'kusikia', 'kusimamisha', 'kutabasu', 'kutambaa', 'kutapika', 'kutibu', 'kutingiza', 'kutoa', 'kutoka', 'kutokamathare', 'kutokamathareumejifunguwa', 'kutokana', 'kutokarachuonyo', 'kutokarachuonyoumejifunguwa', 'kutokuwa', 'kutokwa', 'kutolewa', 'kutompa', 'kutumia', 'kutuona', 'kuuliza', 'kuumwa', 'kuwa', 'kuwacha', 'kuweka', 'kuyo', 'kuzaliwa', 'kuzidi', 'kuzitumia', 'kuzoea', 'kuzuia', 'kuzungumza', 'kwa', 'kwako', 'kwamba', 'kwamboka', 'kwanza', 'kwe', 'kwenda', 'kwenye', 'kwetu', 'la', 'labour', 'lady', 'laini', 'lak', 'lakini', 'lako', 'lala', 'lap', 'last', 'late', 'latrivia', 'lavenda', 'laventer', 'lay', 'lea', 'leah', 'leaking', 'learn', 'least', 'legs', 'leon', 'lep', 'lepi', 'ler', 'less', 'let', 'leta', 'levis', 'lewis', 'liet', 'life', 'like', 'lilian', 'lillian', 'lilly', 'lim', 'limbe', 'limbeni', 'linda', 'lindah', 'linet', 'lini', 'lipona', 'lips', 'liquids', 'little', 'liz', 'loice', 'loise', 'loko', 'lolote', 'long', 'look', 'loreen', 'loso', 'losore', 'losruok', 'lot', 'love', 'lovina', 'lower', 'lucas', 'lucy', 'luis', 'luoko', 'lupita', 'lure', 'luya', 'lwedo', 'lwetgi', 'lweti', 'lydia', 'lying', 'lynn', 'ma', 'maambukizi', 'mabadiliko', 'maber', 'mabero', 'mabiro', 'machaa', 'machal', 'machalo', 'macho', 'machovu', 'machwok', 'madam', 'madawa', 'madhara', 'madidwar', 'maduong', 'madwaro', 'mae', 'maen', 'maendeleo', 'mag', 'magalagal', 'mage', 'maggie', 'magi', 'magie', 'magonjwa', 'magret', 'mahali', 'maisha', 'maji', 'mak', 'makamagi', 'makasi', 'make', 'makena', 'makes', 'mako', 'makuongo', 'makwar', 'malaika', 'maler', 'maliet', 'maluki', 'mam', 'mama', 'mami', 'mamie', 'mana', 'manage', 'mang', 'mangeny', 'mangich', 'mangima', 'maninigi', 'manjano', 'mano', 'manu', 'manufaa', 'many', 'manyalo', 'manyathi', 'mao', 'mapimo', 'mapiyo', 'mar', 'mara', 'marach', 'maraton', 'marbel', 'maremo', 'maren', 'margi', 'mari', 'marion', 'maromo', 'martha', 'mary', 'maryanne', 'masaa', 'mashaka', 'mashinde', 'masieko', 'masin', 'masuala', 'maswali', 'matatizo', 'mate', 'matek', 'mathare', 'mathew', 'mathoth', 'matibabu', 'matin', 'matinne', 'matiti', 'matut', 'maumivu', 'maureen', 'maurine', 'mawaidha', 'mawili', 'mawouk', 'mawuok', 'mawuokrachuonyopouch', 'max', 'may', 'mayom', 'maziwa', 'mbaya', 'mbili', 'mbinu', 'mburu', 'mchana', 'mchanga', 'mean', 'medication', 'medications', 'melvin', 'melvine', 'mengi', 'mengine', 'mercy', 'mercymawuok', 'mereza', 'message', 'messages', 'method', 'methods', 'meva', 'mfupi', 'mgongo', 'mgonjwa', 'mguzane', 'mi', 'miaka', 'mibiro', 'michelle', 'midomo', 'midwaro', 'miezi', 'mifupa', 'miguu', 'mike', 'mikono', 'milk', 'millicent', 'milly', 'mim', 'mimadho', 'mimba', 'min', 'mine', 'mingi', 'minute', 'minutes', 'mio', 'miriam', 'mirima', 'mishtuko', 'misty', 'misuli', 'mitatu', 'mitshel', 'miye', 'miyo', 'mkono', 'mlio', 'mmoja', 'mnaendeleaje', 'mobile', 'mofarine', 'mogik', 'moja', 'mokalo', 'moko', 'mokuongo', 'mokwongo', 'molline', 'molony', 'moloyo', 'mon', 'mondo', 'month', 'months', 'mopogore', 'mopoto', 'mora', 'moraa', 'moramora', 'more', 'morin', 'moro', 'moroamora', 'mose', 'moseketo', 'most', 'motegno', 'mother', 'mothers', 'moureen', 'move', 'movement', 'moves', 'moving', 'mpaka', 'mpangilio', 'mpango', 'mpeleke', 'mradi', 'mrefu', 'mtindo', 'mtoto', 'muda', 'mueni', 'muhimu', 'mukai', 'mum', 'muoch', 'muombe', 'muscles', 'musyoka', 'mutethya', 'mutheu', 'muthini', 'muthoni', 'muuguzi', 'mwa', 'mwende', 'mwentewe', 'mwenye', 'mwezi', 'mwikali', 'mwili', 'mwilini', 'mwingi', 'mwingine', 'mwisho', 'na', 'nad', 'nade', 'nadudu', 'nafasi', 'name', 'nan', 'nancy', 'nane', 'naomi', 'napkin', 'naps', 'nas', 'nasi', 'nature', 'navyo', 'nayo', 'ndalo', 'ndani', 'ndanu', 'ndinda', 'ndiyo', 'nduku', 'ne', 'necky', 'need', 'needed', 'needs', 'nelly', 'nenda', 'neni', 'neno', 'nenowa', 'neo', 'nesh', 'new', 'newborn', 'newborns', 'next', 'ng', 'ngapi', 'nge', 'ngeso', 'ngeyo', 'ngich', 'ngima', 'ngimane', 'ngimani', 'ngiyo', 'ngozi', 'nguo', 'nguvu', 'ngwen', 'ni', 'nibrenda', 'nicole', 'nigel', 'night', 'nights', 'nigi', 'nigo', 'nihero', 'nijumbe', 'nikare', 'nikech', 'nim', 'nimercy', 'nindo', 'nini', 'nitie', 'nitiere', 'njaa', 'njeri', 'njia', 'no', 'noises', 'nondo', 'nora', 'noreen', 'normal', 'normally', 'nose', 'not', 'noted', 'notice', 'noticed', 'novel', 'now', 'number', 'nurse', 'nurses', 'nya', 'nyabasi', 'nyabate', 'nyaka', 'nyakach', 'nyaki', 'nyalo', 'nyambuga', 'nyambura', 'nyandruogegi', 'nyangarura', 'nyar', 'nyasema', 'nyasuba', 'nyathi', 'nyathini', 'nyatni', 'nyekundu', 'nyime', 'nyingi', 'nyisowa', 'nyiswa', 'nyithindo', 'nyitindo', 'nyoul', 'nyuer', 'nyuol', 'nyuolo', 'nzuri', 'obed', 'obedo', 'ober', 'ochak', 'ochanre', 'ochieng', 'ochiko', 'ochuer', 'ochwakore', 'odhi', 'odiechieng', 'odienge', 'odiochieng', 'odonjo', 'odum', 'of', 'off', 'often', 'ogenga', 'ogengo', 'ogolo', 'ogoyo', 'ohaso', 'ok', 'okeli', 'oklal', 'oknyal', 'oko', 'okonyi', 'okuot', 'okwayi', 'ol', 'olaw', 'old', 'older', 'olo', 'olony', 'omako', 'omiyo', 'omwami', 'on', 'once', 'ondiala', 'ondindoe', 'onditi', 'one', 'onego', 'onengo', 'ong', 'onge', 'ongea', 'ongi', 'onindi', 'onindo', 'onyalo', 'onyango', 'onyuol', 'oonge', 'opodho', 'options', 'or', 'oriere', 'orirwe', 'oro', 'oroni', 'oronwa', 'oruodho', 'osebedo', 'osechopo', 'osekonyi', 'osenyuole', 'oseyudo', 'osije', 'osipital', 'osiptal', 'ospital', 'ote', 'other', 'others', 'otieno', 'otimo', 'otingo', 'otio', 'otiyo', 'otug', 'otugi', 'our', 'out', 'over', 'ovyo', 'oweyo', 'owinjore', 'owuog', 'oyud', 'oyweyo', 'pain', 'painful', 'pains', 'paja', 'pak', 'pam', 'pamba', 'pameala', 'pamela', 'panguza', 'par', 'parents', 'paro', 'paroni', 'parruok', 'pass', 'past', 'pattern', 'pay', 'pek', 'pend', 'pendo', 'penj', 'penjo', 'penjwa', 'per', 'perez', 'periods', 'peris', 'perpetual', 'peter', 'petronilla', 'phanice', 'phen', 'philsa', 'phoebe', 'phoeby', 'phylis', 'pi', 'pia', 'pidho', 'pien', 'piero', 'pii', 'pile', 'piny', 'piyo', 'placed', 'places', 'plan', 'planning', 'playing', 'please', 'pneumoccal', 'pneumococcal', 'pod', 'pok', 'polio', 'poni', 'poo', 'position', 'precious', 'predicatable', 'pregnancy', 'prepare', 'prevent', 'pricillah', 'prima', 'prince', 'probelms', 'problem', 'problems', 'program', 'protects', 'provides', 'pua', 'pumua', 'pumzi', 'punde', 'puonj', 'purity', 'pury', 'pus', 'put', 'putting', 'qeenlencer', 'queen', 'questions', 'quiet', 'quinter', 'rach', 'rachael', 'rachel', 'rachuonyo', 'rachuonyoi', 'rachuonyoka', 'rachuonyone', 'rachuonyonyaki', 'rahisi', 'rame', 'rami', 'randy', 'rangi', 'ranyisi', 'ranyisigi', 'rashes', 'ratong', 'rattle', 'razia', 'reaches', 'reaching', 'reagan', 'rebbecca', 'receive', 'received', 'red', 'redness', 'reflux', 'regina', 'regular', 'regularly', 'rehema', 'rem', 'rembegi', 'rembi', 'reminder', 'remo', 'removed', 'require', 'respond', 'return', 'rhoda', 'rich', 'rieko', 'right', 'rinse', 'rita', 'rito', 'rizzy', 'robert', 'rocking', 'rodney', 'romo', 'rony19', 'rooney', 'rosalia', 'rose', 'rosebela', 'roselyne', 'rosemary', 'rozy', 'rozzy', 'rub', 'rudhone', 'rum', 'ruth', 'ruto', 'ryan', 'saa', 'sababu', 'saboro', 'sad', 'safe', 'safest', 'safi', 'salama', 'salome', 'sam', 'sama', 'samara', 'samoro', 'sana', 'sandra', 'sangi', 'sani', 'sara', 'sarah', 'sasa', 'sauti', 'sawa', 'schedule', 'scholar', 'scola', 'seche', 'see', 'seeing', 'seem', 'seems', 'sehemu', 'selestine', 'selina', 'seline', 'sellestine', 'selline', 'send', 'senje', 'septemba', 'september', 'service', 'several', 'severe', 'shaker', 'shalma', 'shamu', 'shania', 'shantel', 'shanti', 'sharo', 'sharon', 'sheila', 'shelda', 'sheldon', 'sherline', 'sheryl', 'shida', 'shiko', 'shirleen', 'shirline', 'should', 'sicily', 'sick', 'side', 'sign', 'signals', 'signs', 'siku', 'sindan', 'sindano', 'singing', 'sio', 'siri', 'sisi', 'sivyo', 'skilled', 'skills', 'skin', 'skull', 'sleep', 'sleeping', 'sleepy', 'slightly', 'smack', 'smaller', 'smell', 'smelly', 'smiling', 'sms', 'snyaidah', 'so', 'soft', 'soiled', 'solo', 'some', 'something', 'sometimes', 'sonia', 'soon', 'soothes', 'sophy', 'sopital', 'space', 'spacing', 'spend', 'spitting', 'stacy', 'stafo', 'stano', 'start', 'starting', 'stay', 'stella', 'steve', 'sticky', 'stiffening', 'still', 'stimulating', 'stomach', 'stop', 'stopping', 'stops', 'strong', 'stump', 'subside', 'such', 'suck', 'sucking', 'sunken', 'support', 'sure', 'susan', 'swaddling', 'swali', 'swelling', 'swuoye', 'sylivia', 'sylvia', 'syombua', 'tabby', 'tafadhali', 'tafline', 'tahmeed', 'take', 'taking', 'talk', 'talking', 'tamara', 'tapping', 'tatizo', 'tatu', 'te', 'teacher', 'teddy', 'tee', 'tego', 'tell', 'tem', 'temo', 'tena', 'tenga', 'teresia', 'terni', 'terry', 'than', 'thank', 'that', 'the', 'their', 'them', 'there', 'therefore', 'thermometer', 'these', 'they', 'thi', 'thieth', 'things', 'think', 'this', 'those', 'thoth', 'though', 'thout', 'three', 'through', 'thuno', 'thuolo', 'ti', 'tich', 'tie', 'tiend', 'tiende', 'tiendene', 'tightening', 'tik', 'tim', 'time', 'times', 'timo', 'timore', 'tina', 'ting', 'tingo', 'tio', 'tired', 'tiyo', 'to', 'tofauti', 'together', 'toke', 'tony', 'toy', 'treat', 'treatment', 'trevor', 'trezy', 'triza', 'trizel', 'try', 'trying', 'tu', 'tuangalie', 'tugo', 'tugoga', 'tujulisha', 'tujulishe', 'tuko', 'tukusaidia', 'tumbo', 'tumefurahia', 'tummy', 'tunataka', 'tunatarajia', 'tunaweza', 'tungependa', 'tuo', 'tuoche', 'tuone', 'tupange', 'turn', 'tutakutumia', 'tutu', 'tutumie', 'tuweze', 'twaro', 'two', 'typical', 'tyrens', 'uamuzi', 'ucheze', 'uchovu', 'uchungu', 'ufanisi', 'ugonjwa', 'ugumu', 'ujauzito', 'uje', 'ujoto', 'ujumbe', 'ujuzi', 'ukianza', 'ukiwa', 'uko', 'ulijifungulia', 'ulimpeleka', 'ulivyo', 'uliyo', 'uliza', 'ulizipenda', 'umbilical', 'umebeba', 'umechagua', 'umegundua', 'umejifungua', 'umejifunguwa', 'umekuja', 'umekusaidia', 'umekuwa', 'umekuwaje', 'umeona', 'umepanga', 'umetumia', 'umewahi', 'umgi', 'umri', 'umweke', 'una', 'unaendeleaje', 'unaeza', 'unahisi', 'unahisije', 'unahitaji', 'unajifungua', 'unajua', 'unanapanga', 'unanyonyesha', 'unaona', 'unaotoka', 'unapanga', 'unapaswa', 'unapojifunguwa', 'unarudi', 'unasikia', 'unaswali', 'unatokwa', 'unatumia', 'unaumwa', 'unavyoendelea', 'unaweza', 'unayo', 'unayohitaji', 'uncomfortable', 'until', 'unwell', 'up', 'upangaji', 'upele', 'upright', 'us', 'usaidizi', 'use', 'used', 'ushauri', 'ushirikiane', 'ushirikiano', 'usiku', 'usimwoshe', 'using', 'uso', 'usoni', 'usually', 'utafikaje', 'utajifungulia', 'utakavyo', 'utakusaidia', 'utapokea', 'utone', 'utulivu', 'utuone', 'utuulize', 'uuulize', 'uzaa', 'uzazi', 'vaccines', 'velma', 'very', 'vibaya', 'vickie', 'vicky', 'victor', 'vida', 'vifaa', 'villie', 'vin', 'vinavyohitajika', 'vingine', 'vinywaji', 'vio', 'violet', 'virginia', 'visit', 'vitamini', 'vitamins', 'vitu', 'vivian', 'vizuri', 'vomiting', 'vya', 'wa', 'wabiro', 'wach', 'wachanga', 'wachiegni', 'wafanyakazi', 'wageno', 'wajulishe', 'wakati', 'wake', 'wakiona', 'wako', 'wakonyi', 'wakubwa', 'wakupeleke', 'wakwayi', 'wamama', 'wambo', 'wamor', 'wan', 'wana', 'wanapaswa', 'wanapokuwa', 'wanapopumuwa', 'wanapumua', 'wanapumwa', 'wanawake', 'wanaweza', 'wang', 'wangeci', 'wangiyo', 'wangui', 'wanja', 'wanjiku', 'want', 'wanyalo', 'wanza', 'wapi', 'wapim', 'warm', 'warwaki', 'was', 'washing', 'wasiwasi', 'watanyoosha', 'water', 'watoto', 'wauguzi', 'way', 'wayne', 'wazazi', 'we', 'week', 'weekends', 'weekly', 'weeks', 'weight', 'welcome', 'well', 'wen', 'wendi', 'wendy', 'wengi', 'wengine', 'wenye', 'wer', 'wetu', 'wewe', 'weyo', 'what', 'wheezing', 'when', 'where', 'which', 'while', 'whitney', 'who', 'wi', 'wich', 'wichbar', 'wigni', 'wikendi', 'wiki', 'will', 'willy', 'winjo', 'winner', 'winnie', 'with', 'within', 'without', 'wito', 'wiye', 'women', 'won', 'wool', 'work', 'workers', 'works', 'worried', 'worse', 'wote', 'would', 'wowote', 'wowowte', 'wrong', 'wuo', 'wuok', 'ya', 'yake', 'yako', 'yana', 'yanahitaji', 'yao', 'yath', 'yaweza', 'years', 'yellow', 'yet', 'yeye', 'yeyote', 'yie', 'yiero', 'yo', 'yor', 'yore', 'yoregi', 'yot', 'yote', 'you', 'your', 'yourself', 'yoyote', 'yuak', 'yud', 'yudo', 'yudoe', 'yue', 'yueyo', 'yuko', 'yvone', 'yvonne', 'ywag', 'ywak', 'ywakga', 'ywe', 'yweyo', 'za', 'zaidi', 'zako', 'zakupanga', 'zao', 'zena', 'ziara', 'zijazo', 'zinaendelea', 'zingine', 'zinpanuka', 'zipi', 'zippora', 'zipporah', 'zitaacha']\n"
     ]
    }
   ],
   "source": [
    "vectorizer = CountVectorizer()\n",
    "X_bow = vectorizer.fit_transform(corpus)\n",
    "print(vectorizer.get_feature_names())"
   ]
  },
  {
   "cell_type": "code",
   "execution_count": 14,
   "metadata": {},
   "outputs": [
    {
     "name": "stdout",
     "output_type": "stream",
     "text": [
      "[[0 0 0 ... 0 0 0]\n",
      " [0 0 0 ... 0 0 0]\n",
      " [0 0 0 ... 0 0 0]\n",
      " ...\n",
      " [0 0 0 ... 0 0 0]\n",
      " [0 0 0 ... 0 0 0]\n",
      " [0 0 0 ... 0 0 0]]\n"
     ]
    }
   ],
   "source": [
    "print(X_bow.toarray())"
   ]
  },
  {
   "cell_type": "code",
   "execution_count": 15,
   "metadata": {},
   "outputs": [],
   "source": [
    "# Prepare training and testing datasets\n",
    "X_train, X_test, y_train, y_test = train_test_split(X_bow, y, test_size=0.10, train_size=0.90, random_state=55)\n"
   ]
  },
  {
   "cell_type": "code",
   "execution_count": 16,
   "metadata": {},
   "outputs": [
    {
     "data": {
      "text/plain": [
       "(23418, 2283)"
      ]
     },
     "execution_count": 16,
     "metadata": {},
     "output_type": "execute_result"
    }
   ],
   "source": [
    "X_train.shape"
   ]
  },
  {
   "cell_type": "code",
   "execution_count": 17,
   "metadata": {},
   "outputs": [
    {
     "data": {
      "text/plain": [
       "(2603, 2283)"
      ]
     },
     "execution_count": 17,
     "metadata": {},
     "output_type": "execute_result"
    }
   ],
   "source": [
    "X_test.shape"
   ]
  },
  {
   "cell_type": "code",
   "execution_count": 18,
   "metadata": {},
   "outputs": [
    {
     "data": {
      "text/plain": [
       "(23418,)"
      ]
     },
     "execution_count": 18,
     "metadata": {},
     "output_type": "execute_result"
    }
   ],
   "source": [
    "y_train.shape"
   ]
  },
  {
   "cell_type": "code",
   "execution_count": 19,
   "metadata": {},
   "outputs": [
    {
     "data": {
      "text/plain": [
       "(2603,)"
      ]
     },
     "execution_count": 19,
     "metadata": {},
     "output_type": "execute_result"
    }
   ],
   "source": [
    "y_test.shape"
   ]
  },
  {
   "cell_type": "code",
   "execution_count": 20,
   "metadata": {},
   "outputs": [
    {
     "data": {
      "text/plain": [
       "<1x2283 sparse matrix of type '<class 'numpy.int64'>'\n",
       "\twith 35 stored elements in Compressed Sparse Row format>"
      ]
     },
     "execution_count": 20,
     "metadata": {},
     "output_type": "execute_result"
    }
   ],
   "source": [
    "X_train[0]"
   ]
  },
  {
   "cell_type": "code",
   "execution_count": 21,
   "metadata": {},
   "outputs": [
    {
     "data": {
      "text/plain": [
       "[array(['mama', 'brenda', 'mathare', 'to', 'you', 'and', 'the', 'of',\n",
       "        'any', 'or', 'this', 'is', 'from', 'sometimes', 'problems', 'can',\n",
       "        'these', 'are', 'feel', 'having', 'new', 'many', 'all', 'time',\n",
       "        'sleeping', 'crying', 'happens', 'women', 'mothers', 'sad',\n",
       "        'anxious', 'worried', 'cause', 'difficulty', 'terry'], dtype='<U27')]"
      ]
     },
     "execution_count": 21,
     "metadata": {},
     "output_type": "execute_result"
    }
   ],
   "source": [
    "vectorizer.inverse_transform(X_train[0])"
   ]
  },
  {
   "cell_type": "markdown",
   "metadata": {},
   "source": [
    "# 1. Fitting the model Using BoW as the feature input only"
   ]
  },
  {
   "cell_type": "code",
   "execution_count": 2,
   "metadata": {},
   "outputs": [
    {
     "ename": "NameError",
     "evalue": "name 'sklearn' is not defined",
     "output_type": "error",
     "traceback": [
      "\u001b[1;31m---------------------------------------------------------------------------\u001b[0m",
      "\u001b[1;31mNameError\u001b[0m                                 Traceback (most recent call last)",
      "\u001b[1;32m<ipython-input-2-2b7271b9a3de>\u001b[0m in \u001b[0;36m<module>\u001b[1;34m\u001b[0m\n\u001b[0;32m      1\u001b[0m \u001b[1;31m#We now fit the model\u001b[0m\u001b[1;33m\u001b[0m\u001b[1;33m\u001b[0m\u001b[1;33m\u001b[0m\u001b[0m\n\u001b[1;32m----> 2\u001b[1;33m \u001b[0mlogreg\u001b[0m \u001b[1;33m=\u001b[0m \u001b[0msklearn\u001b[0m\u001b[1;33m.\u001b[0m\u001b[0mlinear_model\u001b[0m\u001b[1;33m.\u001b[0m\u001b[0mLogisticRegression\u001b[0m\u001b[1;33m(\u001b[0m\u001b[0msolver\u001b[0m\u001b[1;33m=\u001b[0m\u001b[1;34m'lbfgs'\u001b[0m\u001b[1;33m,\u001b[0m \u001b[0mmax_iter\u001b[0m\u001b[1;33m=\u001b[0m\u001b[1;36m570\u001b[0m\u001b[1;33m)\u001b[0m\u001b[1;33m\u001b[0m\u001b[1;33m\u001b[0m\u001b[0m\n\u001b[0m\u001b[0;32m      3\u001b[0m \u001b[0mlogreg\u001b[0m\u001b[1;33m.\u001b[0m\u001b[0mfit\u001b[0m\u001b[1;33m(\u001b[0m\u001b[0mX_train\u001b[0m\u001b[1;33m,\u001b[0m \u001b[0my_train\u001b[0m\u001b[1;33m)\u001b[0m\u001b[1;33m\u001b[0m\u001b[1;33m\u001b[0m\u001b[0m\n",
      "\u001b[1;31mNameError\u001b[0m: name 'sklearn' is not defined"
     ]
    }
   ],
   "source": [
    "#We now fit the model\n",
    "logreg = sklearn.linear_model.LogisticRegression(solver='lbfgs', max_iter=570)\n",
    "logreg.fit(X_train, y_train)"
   ]
  },
  {
   "cell_type": "code",
   "execution_count": 23,
   "metadata": {},
   "outputs": [
    {
     "name": "stdout",
     "output_type": "stream",
     "text": [
      "[[-0.12801649 -0.07786251  0.031467   ...  0.18179038  0.8318547\n",
      "  -0.19799187]]\n"
     ]
    }
   ],
   "source": [
    "print(logreg.coef_)"
   ]
  },
  {
   "cell_type": "code",
   "execution_count": 1,
   "metadata": {},
   "outputs": [
    {
     "ename": "NameError",
     "evalue": "name 'logreg' is not defined",
     "output_type": "error",
     "traceback": [
      "\u001b[1;31m---------------------------------------------------------------------------\u001b[0m",
      "\u001b[1;31mNameError\u001b[0m                                 Traceback (most recent call last)",
      "\u001b[1;32m<ipython-input-1-a68be6b07923>\u001b[0m in \u001b[0;36m<module>\u001b[1;34m\u001b[0m\n\u001b[1;32m----> 1\u001b[1;33m \u001b[0mprediction\u001b[0m \u001b[1;33m=\u001b[0m \u001b[0mlogreg\u001b[0m\u001b[1;33m.\u001b[0m\u001b[0mpredict\u001b[0m\u001b[1;33m(\u001b[0m\u001b[0mX_test\u001b[0m\u001b[1;33m)\u001b[0m\u001b[1;33m\u001b[0m\u001b[1;33m\u001b[0m\u001b[0m\n\u001b[0m\u001b[0;32m      2\u001b[0m \u001b[0mpr\u001b[0m \u001b[1;33m=\u001b[0m \u001b[0mlogreg\u001b[0m\u001b[1;33m.\u001b[0m\u001b[0mpredict_proba\u001b[0m\u001b[1;33m(\u001b[0m\u001b[0mX_test\u001b[0m\u001b[1;33m)\u001b[0m\u001b[1;33m\u001b[0m\u001b[1;33m\u001b[0m\u001b[0m\n\u001b[0;32m      3\u001b[0m \u001b[0mplt\u001b[0m\u001b[1;33m.\u001b[0m\u001b[0mhist\u001b[0m\u001b[1;33m(\u001b[0m\u001b[0mpr\u001b[0m\u001b[1;33m[\u001b[0m\u001b[1;33m:\u001b[0m\u001b[1;33m,\u001b[0m\u001b[1;36m0\u001b[0m\u001b[1;33m]\u001b[0m\u001b[1;33m)\u001b[0m\u001b[1;33m\u001b[0m\u001b[1;33m\u001b[0m\u001b[0m\n\u001b[0;32m      4\u001b[0m \u001b[0mplt\u001b[0m\u001b[1;33m.\u001b[0m\u001b[0mxlabel\u001b[0m\u001b[1;33m(\u001b[0m\u001b[1;34m'Predicted Probability'\u001b[0m\u001b[1;33m)\u001b[0m\u001b[1;33m\u001b[0m\u001b[1;33m\u001b[0m\u001b[0m\n\u001b[0;32m      5\u001b[0m \u001b[0mplt\u001b[0m\u001b[1;33m.\u001b[0m\u001b[0mylabel\u001b[0m\u001b[1;33m(\u001b[0m\u001b[1;34m'Number of messages'\u001b[0m\u001b[1;33m)\u001b[0m\u001b[1;33m\u001b[0m\u001b[1;33m\u001b[0m\u001b[0m\n",
      "\u001b[1;31mNameError\u001b[0m: name 'logreg' is not defined"
     ]
    }
   ],
   "source": [
    "prediction = logreg.predict(X_test)\n",
    "pr = logreg.predict_proba(X_test)\n",
    "plt.hist(pr[:,0])\n",
    "plt.xlabel('Predicted Probability')\n",
    "plt.ylabel('Number of messages')\n",
    "plt.axis(xmin=0, xmax=1)\n",
    "plt.grid();"
   ]
  },
  {
   "cell_type": "code",
   "execution_count": 35,
   "metadata": {},
   "outputs": [
    {
     "data": {
      "text/plain": [
       "0.6945831732616212"
      ]
     },
     "execution_count": 35,
     "metadata": {},
     "output_type": "execute_result"
    }
   ],
   "source": [
    "#Let's testing out the predictions\n",
    "#1. accuracy_score\n",
    "accuracy_score(y_test, prediction)\n",
    "#logreg.score(X_test, y_test)"
   ]
  },
  {
   "cell_type": "code",
   "execution_count": 37,
   "metadata": {},
   "outputs": [
    {
     "data": {
      "text/plain": [
       "0.6859828470786431"
      ]
     },
     "execution_count": 37,
     "metadata": {},
     "output_type": "execute_result"
    }
   ],
   "source": [
    "#Let's also do roc-auc-score\n",
    "roc_auc_score(y_test, prediction)"
   ]
  },
  {
   "cell_type": "code",
   "execution_count": 48,
   "metadata": {},
   "outputs": [
    {
     "data": {
      "text/plain": [
       "0.6162253702418099"
      ]
     },
     "execution_count": 48,
     "metadata": {},
     "output_type": "execute_result"
    }
   ],
   "source": [
    "#K-Fold for BoW\n",
    "rkf = RepeatedKFold(n_splits=10, n_repeats=10, random_state=2652124)\n",
    "accuracy = []\n",
    "roc_auc = []\n",
    "model = sklearn.ensemble.GradientBoostingClassifier()\n",
    "for train_index, test_index in rkf.split(X_bow, y):\n",
    "    #print(\"TRAIN:\", train_index, \"TEST:\", test_index)\n",
    "    X_train, X_test = X.iloc[train_index], X.iloc[test_index]\n",
    "    y_train, y_test = y.iloc[train_index], y.iloc[test_index]\n",
    "    model.fit(X_train, y_train)\n",
    "    pred = model.predict(X_test)\n",
    "    accuracy.append(accuracy_score(y_test, pred))  #converting the preditions to 100%\n",
    "    #roc_auc.append(roc_auc_score(y_test, pred)*100)\n",
    "    \n",
    "statistics.mean(accuracy)"
   ]
  },
  {
   "cell_type": "markdown",
   "metadata": {},
   "source": [
    "# 2. Using EDD and language to predict probability of text response and measuring its performance"
   ]
  },
  {
   "cell_type": "code",
   "execution_count": 49,
   "metadata": {},
   "outputs": [],
   "source": [
    "X = systemMesaagesDF.filter(['edd_wk', 'swahili', 'english', 'luo']).astype(float)"
   ]
  },
  {
   "cell_type": "code",
   "execution_count": 50,
   "metadata": {},
   "outputs": [],
   "source": [
    "#Split dataset into training and testing sets.\n",
    "x_train, x_test, y_train, y_test = train_test_split(X, y, test_size=0.20, random_state=55)"
   ]
  },
  {
   "cell_type": "code",
   "execution_count": 51,
   "metadata": {},
   "outputs": [
    {
     "data": {
      "text/plain": [
       "LogisticRegression(C=1.0, class_weight=None, dual=False, fit_intercept=True,\n",
       "          intercept_scaling=1, max_iter=550, multi_class='warn',\n",
       "          n_jobs=None, penalty='l2', random_state=None, solver='lbfgs',\n",
       "          tol=0.0001, verbose=0, warm_start=False)"
      ]
     },
     "execution_count": 51,
     "metadata": {},
     "output_type": "execute_result"
    }
   ],
   "source": [
    "#Fitting the model\n",
    "clf = sklearn.linear_model.LogisticRegression(solver='lbfgs', max_iter=550)\n",
    "clf.fit(x_train, y_train)"
   ]
  },
  {
   "cell_type": "code",
   "execution_count": 52,
   "metadata": {},
   "outputs": [
    {
     "data": {
      "image/png": "[encoded data removed]",
      "text/plain": [
       "<Figure size 432x288 with 1 Axes>"
      ]
     },
     "metadata": {
      "needs_background": "light"
     },
     "output_type": "display_data"
    }
   ],
   "source": [
    "pr = clf.predict_proba(x_test)\n",
    "plt.hist(pr[:,0])\n",
    "plt.xlabel('Predicted Probability')\n",
    "plt.ylabel('Number of messages')\n",
    "plt.axis(xmin=0, xmax=1)\n",
    "plt.grid();"
   ]
  },
  {
   "cell_type": "code",
   "execution_count": 53,
   "metadata": {},
   "outputs": [
    {
     "data": {
      "text/plain": [
       "0.5771373679154659"
      ]
     },
     "execution_count": 53,
     "metadata": {},
     "output_type": "execute_result"
    }
   ],
   "source": [
    "#lets measure the performance of this model\n",
    "#accuracy_score\n",
    "predict = clf.predict(x_test)\n",
    "accuracy_score(y_test, predict)"
   ]
  },
  {
   "cell_type": "code",
   "execution_count": 54,
   "metadata": {},
   "outputs": [
    {
     "data": {
      "text/plain": [
       "0.5771373679154659"
      ]
     },
     "execution_count": 54,
     "metadata": {},
     "output_type": "execute_result"
    }
   ],
   "source": [
    "#score\n",
    "clf.score(x_test, y_test)"
   ]
  },
  {
   "cell_type": "code",
   "execution_count": 55,
   "metadata": {},
   "outputs": [
    {
     "data": {
      "text/plain": [
       "0.5794727937737791"
      ]
     },
     "execution_count": 55,
     "metadata": {},
     "output_type": "execute_result"
    }
   ],
   "source": [
    "#Let's also do roc-auc-score\n",
    "roc_auc_score(y_test, pr[:,1])"
   ]
  },
  {
   "cell_type": "code",
   "execution_count": 56,
   "metadata": {},
   "outputs": [
    {
     "data": {
      "text/plain": [
       "0.5767419001252915"
      ]
     },
     "execution_count": 56,
     "metadata": {},
     "output_type": "execute_result"
    }
   ],
   "source": [
    "#K-Fold for BoW\n",
    "rkf = RepeatedKFold(n_splits=10, n_repeats=10, random_state=2652124)\n",
    "accuracy = []\n",
    "roc_auc = []\n",
    "model = sklearn.linear_model.LogisticRegression(solver='lbfgs', max_iter=550)\n",
    "for train_index, test_index in rkf.split(X, y):\n",
    "    #print(\"TRAIN:\", train_index, \"TEST:\", test_index)\n",
    "    X_train, X_test = X.iloc[train_index], X.iloc[test_index]\n",
    "    y_train, y_test = y.iloc[train_index], y.iloc[test_index]\n",
    "    model.fit(X_train, y_train)\n",
    "    pred = model.predict(X_test)\n",
    "    accuracy.append(accuracy_score(y_test, pred))  #converting the preditions to 100%\n",
    "    #roc_auc.append(roc_auc_score(y_test, pred)*100)\n",
    "    \n",
    "statistics.mean(accuracy)"
   ]
  },
  {
   "cell_type": "markdown",
   "metadata": {},
   "source": [
    "# 3. Using BoW, EDD, and Languages as all features to predict probability of response."
   ]
  },
  {
   "cell_type": "code",
   "execution_count": 57,
   "metadata": {},
   "outputs": [],
   "source": [
    "import scipy as sp\n",
    "all_features = sp.sparse.hstack((vectorizer.fit_transform(corpus),\n",
    "                      systemMesaagesDF[['edd_wk', 'chars', 'words', 'swahili', 'english', 'luo']].values.astype(np.float32)), format='csr')\n"
   ]
  },
  {
   "cell_type": "code",
   "execution_count": 58,
   "metadata": {},
   "outputs": [
    {
     "data": {
      "text/plain": [
       "(26021, 2289)"
      ]
     },
     "execution_count": 58,
     "metadata": {},
     "output_type": "execute_result"
    }
   ],
   "source": [
    "#all_features.toarray()\n",
    "all_features.shape"
   ]
  },
  {
   "cell_type": "code",
   "execution_count": 67,
   "metadata": {},
   "outputs": [
    {
     "data": {
      "text/plain": [
       "['edd_wk',\n",
       " 'chars',\n",
       " 'words',\n",
       " 'swahili',\n",
       " 'english',\n",
       " 'luo',\n",
       " '14',\n",
       " '15',\n",
       " '30',\n",
       " '4th',\n",
       " '60',\n",
       " 'aache',\n",
       " 'abby',\n",
       " 'abdomen',\n",
       " 'abel',\n",
       " 'abich',\n",
       " 'abigael',\n",
       " 'able',\n",
       " 'abnormal',\n",
       " 'aboro',\n",
       " 'about',\n",
       " 'aboy',\n",
       " 'acheng',\n",
       " 'achiel',\n",
       " 'achieng',\n",
       " 'achieng07',\n",
       " 'across',\n",
       " 'active',\n",
       " 'adek',\n",
       " 'adhiambo',\n",
       " 'adjust',\n",
       " 'ado',\n",
       " 'adory',\n",
       " 'aduda',\n",
       " 'advice',\n",
       " 'after',\n",
       " 'afternoon',\n",
       " 'afya',\n",
       " 'again',\n",
       " 'against',\n",
       " 'age',\n",
       " 'agnes',\n",
       " 'agness',\n",
       " 'ahinya',\n",
       " 'aina',\n",
       " 'aisha',\n",
       " 'ajenya',\n",
       " 'ajili',\n",
       " 'akeyo',\n",
       " 'akicheza',\n",
       " 'akifikia',\n",
       " 'akifikisha',\n",
       " 'akijinyoosha',\n",
       " 'akilia',\n",
       " 'akinyi',\n",
       " 'akiwa',\n",
       " 'ako',\n",
       " 'albert',\n",
       " 'alex',\n",
       " 'alice',\n",
       " 'aliciah',\n",
       " 'alikuwa',\n",
       " 'aliviza',\n",
       " 'all',\n",
       " 'allowing',\n",
       " 'alopozaliwa',\n",
       " 'alphine',\n",
       " 'also',\n",
       " 'aluoch',\n",
       " 'always',\n",
       " 'amani',\n",
       " 'ambacho',\n",
       " 'ambako',\n",
       " 'ambao',\n",
       " 'ambayo',\n",
       " 'ambeza',\n",
       " 'ambia',\n",
       " 'amealala',\n",
       " 'ameanza',\n",
       " 'amefikisha',\n",
       " 'amelala',\n",
       " 'amepokea',\n",
       " 'amina',\n",
       " 'aminga',\n",
       " 'amora',\n",
       " 'an',\n",
       " 'ana',\n",
       " 'anaacha',\n",
       " 'anaenda',\n",
       " 'anaendeleaje',\n",
       " 'anafikia',\n",
       " 'anahitaji',\n",
       " 'anajinyoosha',\n",
       " 'anakuwa',\n",
       " 'analala',\n",
       " 'analia',\n",
       " 'ananyonya',\n",
       " 'anaonekana',\n",
       " 'anapaswa',\n",
       " 'anapozaliwa',\n",
       " 'anasumbua',\n",
       " 'anatoa',\n",
       " 'anaumwa',\n",
       " 'anaweza',\n",
       " 'anayetumia',\n",
       " 'and',\n",
       " 'ane',\n",
       " 'ang',\n",
       " 'angalia',\n",
       " 'angel',\n",
       " 'angela',\n",
       " 'angie',\n",
       " 'angwen',\n",
       " 'anita',\n",
       " 'anjeline',\n",
       " 'ann',\n",
       " 'another',\n",
       " 'antenatal',\n",
       " 'anxious',\n",
       " 'any',\n",
       " 'anyone',\n",
       " 'anything',\n",
       " 'aoko',\n",
       " 'apar',\n",
       " 'aphline',\n",
       " 'appretite',\n",
       " 'aquino',\n",
       " 'are',\n",
       " 'area',\n",
       " 'arise',\n",
       " 'ariyo',\n",
       " 'arm',\n",
       " 'arms',\n",
       " 'arrive',\n",
       " 'arrives',\n",
       " 'as',\n",
       " 'asante',\n",
       " 'asha',\n",
       " 'ashley',\n",
       " 'asili',\n",
       " 'ask',\n",
       " 'asleep',\n",
       " 'assist',\n",
       " 'at',\n",
       " 'atafanya',\n",
       " 'athieno',\n",
       " 'athur',\n",
       " 'atieno',\n",
       " 'atieno07',\n",
       " 'ato',\n",
       " 'attention',\n",
       " 'au',\n",
       " 'auchiel',\n",
       " 'auma',\n",
       " 'aus',\n",
       " 'avoid',\n",
       " 'awake',\n",
       " 'awali',\n",
       " 'awuor',\n",
       " 'aziza',\n",
       " 'baada',\n",
       " 'baadhi',\n",
       " 'babay',\n",
       " 'babies',\n",
       " 'baby',\n",
       " 'back',\n",
       " 'bad',\n",
       " 'bade',\n",
       " 'badene',\n",
       " 'badi',\n",
       " 'bado',\n",
       " 'bakita',\n",
       " 'bamni',\n",
       " 'ban',\n",
       " 'bang',\n",
       " 'bar',\n",
       " 'baridi',\n",
       " 'bashir',\n",
       " 'baths',\n",
       " 'batia',\n",
       " 'baya',\n",
       " 'be',\n",
       " 'beatrice',\n",
       " 'because',\n",
       " 'becomes',\n",
       " 'bedo',\n",
       " 'been',\n",
       " 'before',\n",
       " 'belinda',\n",
       " 'belly',\n",
       " 'ben',\n",
       " 'bende',\n",
       " 'bendo',\n",
       " 'benta',\n",
       " 'ber',\n",
       " 'beril',\n",
       " 'beryl',\n",
       " 'best',\n",
       " 'betty',\n",
       " 'bila',\n",
       " 'biro',\n",
       " 'bironegi',\n",
       " 'birth',\n",
       " 'bleeding',\n",
       " 'bleeidng',\n",
       " 'bless',\n",
       " 'blessing',\n",
       " 'blood',\n",
       " 'body',\n",
       " 'bones',\n",
       " 'bora',\n",
       " 'boss',\n",
       " 'both',\n",
       " 'bottle',\n",
       " 'bravin',\n",
       " 'breast',\n",
       " 'breastfed',\n",
       " 'breastfeed',\n",
       " 'breastfeeding',\n",
       " 'breath',\n",
       " 'breathing',\n",
       " 'breaths',\n",
       " 'brenda',\n",
       " 'brian',\n",
       " 'bridgit',\n",
       " 'brighton',\n",
       " 'brilliant',\n",
       " 'bring',\n",
       " 'bryan',\n",
       " 'bryson',\n",
       " 'bulge',\n",
       " 'buonjo',\n",
       " 'buoyo',\n",
       " 'but',\n",
       " 'by',\n",
       " 'cady',\n",
       " 'caleb',\n",
       " 'can',\n",
       " 'canal',\n",
       " 'care',\n",
       " 'caren',\n",
       " 'caro',\n",
       " 'carol',\n",
       " 'caroline',\n",
       " 'carren',\n",
       " 'catherine',\n",
       " 'cathy',\n",
       " 'cause',\n",
       " 'cha',\n",
       " 'chache',\n",
       " 'chafu',\n",
       " 'chaguo',\n",
       " 'chak',\n",
       " 'chake',\n",
       " 'chako',\n",
       " 'chakore',\n",
       " 'chakula',\n",
       " 'challenges',\n",
       " 'chandruogegi',\n",
       " 'chandruok',\n",
       " 'changamoto',\n",
       " 'change',\n",
       " 'chango',\n",
       " 'chanjo',\n",
       " 'chao',\n",
       " 'charity',\n",
       " 'charles',\n",
       " 'check',\n",
       " 'checking',\n",
       " 'chemutai',\n",
       " 'chenro',\n",
       " 'chep',\n",
       " 'chiegni',\n",
       " 'chiemo',\n",
       " 'chieng',\n",
       " 'children',\n",
       " 'chini',\n",
       " 'chiw',\n",
       " 'chochote',\n",
       " 'chogo',\n",
       " 'choice',\n",
       " 'chop',\n",
       " 'chopo',\n",
       " 'chosen',\n",
       " 'chris',\n",
       " 'christine',\n",
       " 'christne',\n",
       " 'chuer',\n",
       " 'chung',\n",
       " 'chunge',\n",
       " 'chungo',\n",
       " 'chungu',\n",
       " 'chuok',\n",
       " 'chupa',\n",
       " 'chwer',\n",
       " 'clanis',\n",
       " 'clean',\n",
       " 'cleans',\n",
       " 'clinic',\n",
       " 'clint',\n",
       " 'clinton',\n",
       " 'clothes',\n",
       " 'coil',\n",
       " 'cold',\n",
       " 'colic',\n",
       " 'colletah',\n",
       " 'collins',\n",
       " 'color',\n",
       " 'come',\n",
       " 'comfort',\n",
       " 'coming',\n",
       " 'common',\n",
       " 'concerning',\n",
       " 'concerns',\n",
       " 'congratulations',\n",
       " 'consolata',\n",
       " 'contractions',\n",
       " 'convulsions',\n",
       " 'cord',\n",
       " 'cotton',\n",
       " 'could',\n",
       " 'count',\n",
       " 'crawling',\n",
       " 'cries',\n",
       " 'cry',\n",
       " 'crying',\n",
       " 'cynthia',\n",
       " 'dabby',\n",
       " 'daddy',\n",
       " 'dady',\n",
       " 'daher',\n",
       " 'daika',\n",
       " 'daina0',\n",
       " 'daisy',\n",
       " 'dakika',\n",
       " 'daktari',\n",
       " 'dama',\n",
       " 'damaris',\n",
       " 'damian',\n",
       " 'damson',\n",
       " 'damu',\n",
       " 'dan',\n",
       " 'danger',\n",
       " 'dani',\n",
       " 'daniel',\n",
       " 'dark',\n",
       " 'darren',\n",
       " 'daughter',\n",
       " 'dawa',\n",
       " 'day',\n",
       " 'days',\n",
       " 'debra',\n",
       " 'decisions',\n",
       " 'dehydration',\n",
       " 'del',\n",
       " 'deliah',\n",
       " 'deliver',\n",
       " 'delivering',\n",
       " 'delivery',\n",
       " 'dende',\n",
       " 'dendi',\n",
       " 'dennis',\n",
       " 'denno',\n",
       " 'derick',\n",
       " 'derro',\n",
       " 'develop',\n",
       " 'development',\n",
       " 'dhadhu',\n",
       " 'dhaifu',\n",
       " 'dhi',\n",
       " 'dhidi',\n",
       " 'dhodho',\n",
       " 'dhoge',\n",
       " 'dhogi',\n",
       " 'dhoth',\n",
       " 'di',\n",
       " 'diana',\n",
       " 'diaper',\n",
       " 'dibed',\n",
       " 'dichiel',\n",
       " 'dickens',\n",
       " 'did',\n",
       " 'didah',\n",
       " 'didek',\n",
       " 'die',\n",
       " 'diffculty',\n",
       " 'different',\n",
       " 'differently',\n",
       " 'difficulty',\n",
       " 'digomb',\n",
       " 'diher',\n",
       " 'dinah',\n",
       " 'dipo',\n",
       " 'discharge',\n",
       " 'distressing',\n",
       " 'divinah',\n",
       " 'do',\n",
       " 'doctor',\n",
       " 'does',\n",
       " 'doesn',\n",
       " 'doing',\n",
       " 'dolly',\n",
       " 'dongo',\n",
       " 'dorcas',\n",
       " 'dorcus',\n",
       " 'doreen',\n",
       " 'dorine',\n",
       " 'doris',\n",
       " 'doros',\n",
       " 'dorothy',\n",
       " 'dorry',\n",
       " 'dotty',\n",
       " 'down',\n",
       " 'dpt',\n",
       " 'dry',\n",
       " 'due',\n",
       " 'duke',\n",
       " 'duoko',\n",
       " 'during',\n",
       " 'dwa',\n",
       " 'dwaro',\n",
       " 'dwe',\n",
       " 'dweche',\n",
       " 'each',\n",
       " 'easy',\n",
       " 'ebby',\n",
       " 'edend',\n",
       " 'edith',\n",
       " 'edwe',\n",
       " 'edwin',\n",
       " 'ee',\n",
       " 'effective',\n",
       " 'effects',\n",
       " 'ejumbe',\n",
       " 'eklinik',\n",
       " 'elegant',\n",
       " 'elimbeni',\n",
       " 'eliza',\n",
       " 'elizabeth',\n",
       " 'elsy',\n",
       " 'elvis',\n",
       " 'ema',\n",
       " 'emelda',\n",
       " 'emily',\n",
       " 'emma',\n",
       " 'emmah',\n",
       " 'emmanuel',\n",
       " 'en',\n",
       " 'end',\n",
       " 'endalo',\n",
       " 'eneo',\n",
       " 'enjoy',\n",
       " 'ensure',\n",
       " 'eny',\n",
       " 'epend',\n",
       " 'equipment',\n",
       " 'eric',\n",
       " 'erokakamo',\n",
       " 'erokamano',\n",
       " 'esa',\n",
       " 'esaa',\n",
       " 'especially',\n",
       " 'esther',\n",
       " 'eugine',\n",
       " 'eunice',\n",
       " 'eunice0',\n",
       " 'euny',\n",
       " 'euphy',\n",
       " 'eva',\n",
       " 'evans',\n",
       " 'evelyne',\n",
       " 'even',\n",
       " 'evening',\n",
       " 'ever',\n",
       " 'everline',\n",
       " 'everlyne',\n",
       " 'ewi',\n",
       " 'ewiye',\n",
       " 'exeprience',\n",
       " 'experience',\n",
       " 'eyo',\n",
       " 'eyor',\n",
       " 'face',\n",
       " 'facility',\n",
       " 'faim',\n",
       " 'faith',\n",
       " 'fall',\n",
       " 'familia',\n",
       " 'family',\n",
       " 'fanya',\n",
       " 'fast',\n",
       " 'faster',\n",
       " 'fatigued',\n",
       " 'fay',\n",
       " 'feed',\n",
       " 'feeding',\n",
       " 'feedings',\n",
       " 'feel',\n",
       " 'feeling',\n",
       " 'feet',\n",
       " 'feli',\n",
       " 'felix',\n",
       " 'fenny',\n",
       " 'fever',\n",
       " 'fevers',\n",
       " 'few',\n",
       " 'fey',\n",
       " 'fidel',\n",
       " 'fikiria',\n",
       " 'final',\n",
       " 'finley',\n",
       " 'first',\n",
       " 'fits',\n",
       " 'flares',\n",
       " 'flo',\n",
       " 'flocia',\n",
       " 'flozy',\n",
       " 'fluid',\n",
       " 'fontanelle',\n",
       " 'fontanelles',\n",
       " 'food',\n",
       " 'foot',\n",
       " 'for',\n",
       " 'fortune',\n",
       " 'forward',\n",
       " 'fredinah',\n",
       " 'frequent',\n",
       " 'freshman',\n",
       " 'from',\n",
       " 'fuondege',\n",
       " 'furahia',\n",
       " 'fused',\n",
       " 'fussy',\n",
       " 'future',\n",
       " 'fuvu',\n",
       " 'ga',\n",
       " 'gagging',\n",
       " 'gem',\n",
       " 'gengo',\n",
       " 'get',\n",
       " 'getrude',\n",
       " 'gets',\n",
       " 'getting',\n",
       " 'gi',\n",
       " 'gichamo',\n",
       " 'gidhodho',\n",
       " 'gido',\n",
       " 'gift',\n",
       " 'gigi',\n",
       " 'gik',\n",
       " 'gilokore',\n",
       " 'gima',\n",
       " 'gimedore',\n",
       " 'gimoro',\n",
       " 'gin',\n",
       " 'give',\n",
       " 'giwach',\n",
       " 'giza',\n",
       " 'glado',\n",
       " 'gladys',\n",
       " 'gloria',\n",
       " 'go',\n",
       " 'godhiambo',\n",
       " 'gody',\n",
       " 'going',\n",
       " 'gol',\n",
       " 'golo',\n",
       " 'good',\n",
       " 'goreti',\n",
       " 'goruok',\n",
       " 'gotieno',\n",
       " 'grace',\n",
       " 'grace07',\n",
       " 'grano',\n",
       " 'grasp',\n",
       " 'great',\n",
       " 'greg',\n",
       " 'growing',\n",
       " 'grunting',\n",
       " 'hachezi',\n",
       " 'had',\n",
       " 'hadi',\n",
       " 'hagai',\n",
       " 'hahisi',\n",
       " 'haijaunganishwa',\n",
       " 'haimaanishi',\n",
       " 'haja',\n",
       " 'hajinyooshi',\n",
       " 'hajinyoroshi',\n",
       " 'hakikisha',\n",
       " 'halima',\n",
       " 'hamu',\n",
       " 'hana',\n",
       " 'hands',\n",
       " 'hannah',\n",
       " 'hanyonyi',\n",
       " 'haore',\n",
       " 'hapa',\n",
       " 'happens',\n",
       " 'happy',\n",
       " 'haraka',\n",
       " 'harriet',\n",
       " 'harufu',\n",
       " 'has',\n",
       " 'haswa',\n",
       " 'hata',\n",
       " 'hatari',\n",
       " 'have',\n",
       " 'haven',\n",
       " 'having',\n",
       " 'hawawezi',\n",
       " 'haya',\n",
       " 'hayo',\n",
       " 'hayuko',\n",
       " 'haziwezi',\n",
       " 'head',\n",
       " 'headache',\n",
       " 'headaches',\n",
       " 'healing',\n",
       " 'health',\n",
       " 'healthy',\n",
       " 'heavy',\n",
       " 'hellen',\n",
       " 'help',\n",
       " 'helpful',\n",
       " 'helps',\n",
       " 'henrica',\n",
       " 'her',\n",
       " 'here',\n",
       " 'higni',\n",
       " 'hii',\n",
       " 'hilda',\n",
       " 'hilo',\n",
       " 'him',\n",
       " 'his',\n",
       " 'hivi',\n",
       " 'hivyo',\n",
       " 'hiyo',\n",
       " 'hizi',\n",
       " 'hold',\n",
       " 'homa',\n",
       " 'hongera',\n",
       " 'hope',\n",
       " 'hospital',\n",
       " 'hospitalini',\n",
       " 'hot',\n",
       " 'hours',\n",
       " 'how',\n",
       " 'huduma',\n",
       " 'huenda',\n",
       " 'hufanya',\n",
       " 'hugeuza',\n",
       " 'huisha',\n",
       " 'hulala',\n",
       " 'hulalaje',\n",
       " 'hulia',\n",
       " 'hungry',\n",
       " 'hunyonya',\n",
       " 'hupata',\n",
       " 'hupiga',\n",
       " 'hupumua',\n",
       " 'husafisha',\n",
       " 'husaidia',\n",
       " 'hutaki',\n",
       " 'hutoa',\n",
       " 'hutokea',\n",
       " 'huu',\n",
       " 'huwa',\n",
       " 'huyu',\n",
       " 'huzuia',\n",
       " 'huzuni',\n",
       " 'hyline',\n",
       " 'ian',\n",
       " 'ibi',\n",
       " 'ibigo',\n",
       " 'ibiro',\n",
       " 'ich',\n",
       " 'ichako',\n",
       " 'ichano',\n",
       " 'ichich',\n",
       " 'ichuer',\n",
       " 'idadi',\n",
       " 'idel',\n",
       " 'idhi',\n",
       " 'iduogo',\n",
       " 'idwuok',\n",
       " 'if',\n",
       " 'igni',\n",
       " 'ijayo',\n",
       " 'ikel',\n",
       " 'ikele',\n",
       " 'ikelo',\n",
       " 'ikete',\n",
       " 'ikijiisi',\n",
       " 'ikiwa',\n",
       " 'iko',\n",
       " 'ikonwa',\n",
       " 'ikony',\n",
       " 'ikonyori',\n",
       " 'ikwan',\n",
       " 'ileli',\n",
       " 'ili',\n",
       " 'ilikuwa',\n",
       " 'ilimwa',\n",
       " 'illness',\n",
       " 'ilok',\n",
       " 'iluok',\n",
       " 'ilwoko',\n",
       " 'imeingia',\n",
       " 'imi',\n",
       " 'iminza',\n",
       " 'immediately',\n",
       " 'implant',\n",
       " 'in',\n",
       " 'ina',\n",
       " 'inalinda',\n",
       " 'inapaswa',\n",
       " 'inaufanisi',\n",
       " 'inawekwa',\n",
       " 'inaweza',\n",
       " 'inayohitajika',\n",
       " 'includes',\n",
       " 'ine',\n",
       " 'ineno',\n",
       " 'inenwa',\n",
       " 'infant',\n",
       " 'infection',\n",
       " 'infections',\n",
       " 'ing',\n",
       " 'ingawa',\n",
       " 'ingeyo',\n",
       " 'ingi',\n",
       " 'ingine',\n",
       " 'iniere',\n",
       " 'injection',\n",
       " 'innocent',\n",
       " 'interact',\n",
       " 'intire',\n",
       " 'inyalo',\n",
       " 'inyiswa',\n",
       " 'inyuol',\n",
       " 'inziani',\n",
       " 'io',\n",
       " 'ipango',\n",
       " 'ipek',\n",
       " 'irene',\n",
       " 'irregular',\n",
       " 'irto',\n",
       " 'is',\n",
       " 'isaac',\n",
       " 'ise',\n",
       " 'isebedo',\n",
       " 'isebedoga',\n",
       " 'isefuenyo',\n",
       " 'isekonyori',\n",
       " 'iseneno',\n",
       " 'iseno',\n",
       " 'isethi',\n",
       " 'isetiyo',\n",
       " 'iseyiero',\n",
       " 'ishara',\n",
       " 'isiyo',\n",
       " 'iso',\n",
       " 'isseus',\n",
       " 'issues',\n",
       " 'it',\n",
       " 'itakusaidia',\n",
       " 'itawasaidia',\n",
       " 'item',\n",
       " 'iter',\n",
       " 'itimo',\n",
       " 'itiyo',\n",
       " 'iucd',\n",
       " 'iwe',\n",
       " 'iweyo',\n",
       " 'iwinj',\n",
       " 'iwinjo',\n",
       " 'iwuo',\n",
       " 'iye',\n",
       " 'iyi',\n",
       " 'iyo',\n",
       " 'iyudri',\n",
       " 'izoo',\n",
       " 'ja',\n",
       " 'jacinta',\n",
       " 'jack',\n",
       " 'jackie',\n",
       " 'jackline',\n",
       " 'jackline07',\n",
       " 'jacky',\n",
       " 'jama',\n",
       " 'jamila',\n",
       " 'jan',\n",
       " 'jane',\n",
       " 'janet',\n",
       " 'jaribu',\n",
       " 'jarumo',\n",
       " 'jasisa',\n",
       " 'jason',\n",
       " 'jaundice',\n",
       " 'je',\n",
       " 'jeff',\n",
       " 'jelix',\n",
       " 'jerking',\n",
       " 'jessica',\n",
       " 'jeyden',\n",
       " 'ji',\n",
       " 'jiepushe',\n",
       " 'jihadharini',\n",
       " 'jinsi',\n",
       " 'jinyoosha',\n",
       " 'jioni',\n",
       " 'jo',\n",
       " 'joan',\n",
       " 'job',\n",
       " 'joel',\n",
       " 'jogo',\n",
       " 'joining',\n",
       " 'joma',\n",
       " 'jonyuol',\n",
       " 'joodi',\n",
       " 'jose',\n",
       " 'joseph',\n",
       " 'josephine',\n",
       " 'joshua',\n",
       " 'joto',\n",
       " 'joy',\n",
       " 'joyce',\n",
       " 'judith',\n",
       " 'judy',\n",
       " 'juli',\n",
       " 'juma',\n",
       " 'jumani',\n",
       " 'jumapil',\n",
       " 'jumbe',\n",
       " 'june',\n",
       " 'junior',\n",
       " 'juniour',\n",
       " 'jussy',\n",
       " 'just',\n",
       " 'juu',\n",
       " 'ka',\n",
       " 'kabe',\n",
       " 'kabisa',\n",
       " 'kabla',\n",
       " 'kadhaa',\n",
       " 'kadipo',\n",
       " 'kadori',\n",
       " 'kae',\n",
       " 'kagea',\n",
       " 'kagineno',\n",
       " 'kagingiyo',\n",
       " 'kai',\n",
       " 'kain',\n",
       " 'kaintire',\n",
       " 'kajuju',\n",
       " 'kaka',\n",
       " 'kama',\n",
       " 'kamagi',\n",
       " 'kamulo',\n",
       " 'kanini',\n",
       " 'kanyathini',\n",
       " 'kanye',\n",
       " 'kanyo',\n",
       " 'kanze',\n",
       " 'kao',\n",
       " 'kaodiochieng',\n",
       " 'kaonindo',\n",
       " 'kapo',\n",
       " 'kapok',\n",
       " 'kar',\n",
       " 'karang',\n",
       " 'kare',\n",
       " 'kareen',\n",
       " 'karibu',\n",
       " 'karibuni',\n",
       " 'kaswiti',\n",
       " 'kata',\n",
       " 'kati',\n",
       " 'katika',\n",
       " 'katikati',\n",
       " 'katunge',\n",
       " 'kavasi',\n",
       " 'kavetse',\n",
       " 'kavula',\n",
       " 'kaw',\n",
       " 'kawaida',\n",
       " 'kawie',\n",
       " 'kawuok',\n",
       " 'kaye',\n",
       " 'kayo',\n",
       " 'kayueyo',\n",
       " 'kazi',\n",
       " 'kech',\n",
       " 'keep',\n",
       " 'keeping',\n",
       " 'keke',\n",
       " 'kel',\n",
       " 'kelly',\n",
       " 'kelo',\n",
       " 'ken',\n",
       " 'kendo',\n",
       " 'kept',\n",
       " 'keren',\n",
       " 'kerubo',\n",
       " 'ket',\n",
       " 'kete',\n",
       " 'keto',\n",
       " 'kevin',\n",
       " 'kevo',\n",
       " 'kiasi',\n",
       " 'kichwa',\n",
       " 'kidhodho',\n",
       " 'kidogo',\n",
       " 'kidwaro',\n",
       " 'kifafa',\n",
       " 'kifua',\n",
       " 'kifuani',\n",
       " 'kik',\n",
       " 'kila',\n",
       " 'kilichofungwa',\n",
       " 'kilo',\n",
       " 'kinachoshawishi',\n",
       " 'kinaweza',\n",
       " 'kinde',\n",
       " 'kineno',\n",
       " 'kinta',\n",
       " 'kipande',\n",
       " 'kisha',\n",
       " 'kit',\n",
       " 'kitakauka',\n",
       " 'kitio',\n",
       " 'kitovu',\n",
       " 'kitu',\n",
       " 'kituo',\n",
       " 'klinic',\n",
       " 'klinik',\n",
       " 'kliniki',\n",
       " 'know',\n",
       " 'koa',\n",
       " 'kochopo',\n",
       " 'kod',\n",
       " 'kodgi',\n",
       " 'kodi',\n",
       " 'kodiechieng',\n",
       " 'kodwa',\n",
       " 'koil',\n",
       " 'koko',\n",
       " 'komo',\n",
       " 'konindo',\n",
       " 'konye',\n",
       " 'konyi',\n",
       " 'konyo',\n",
       " 'konyuol',\n",
       " 'koro',\n",
       " 'kosechiemo',\n",
       " 'koso',\n",
       " 'kuangalia',\n",
       " 'kuangaliwa',\n",
       " 'kuanguka',\n",
       " 'kuanza',\n",
       " 'kubadilisha',\n",
       " 'kubwa',\n",
       " 'kuchochea',\n",
       " 'kuchukua',\n",
       " 'kufanya',\n",
       " 'kufariki',\n",
       " 'kufikia',\n",
       " 'kufura',\n",
       " 'kugusagusa',\n",
       " 'kuhakikisha',\n",
       " 'kuhesabu',\n",
       " 'kuhisi',\n",
       " 'kuhusu',\n",
       " 'kuimba',\n",
       " 'kuja',\n",
       " 'kujdiffcultyua',\n",
       " 'kujenga',\n",
       " 'kujibwa',\n",
       " 'kujifungua',\n",
       " 'kujifunguwa',\n",
       " 'kujifungwa',\n",
       " 'kujifunza',\n",
       " 'kujiunga',\n",
       " 'kujua',\n",
       " 'kukumbusha',\n",
       " 'kukuona',\n",
       " 'kukusaidia',\n",
       " 'kula',\n",
       " 'kulala',\n",
       " 'kulia',\n",
       " 'kuliko',\n",
       " 'kulisha',\n",
       " 'kuma',\n",
       " 'kumbembeleza',\n",
       " 'kumjua',\n",
       " 'kumkalisha',\n",
       " 'kumlaza',\n",
       " 'kumleta',\n",
       " 'kumpa',\n",
       " ...]"
      ]
     },
     "execution_count": 67,
     "metadata": {},
     "output_type": "execute_result"
    }
   ],
   "source": [
    "#show all columns\n",
    "all_features_columns = systemMesaagesDF[['edd_wk', 'chars', 'words', 'swahili', 'english', 'luo']].columns.tolist() + vectorizer.get_feature_names()\n",
    "all_features_columns"
   ]
  },
  {
   "cell_type": "code",
   "execution_count": 68,
   "metadata": {},
   "outputs": [],
   "source": [
    "xtrain, xtest, ytrain, ytest = train_test_split(all_features, y, test_size=0.20, random_state=60)"
   ]
  },
  {
   "cell_type": "code",
   "execution_count": 69,
   "metadata": {},
   "outputs": [
    {
     "data": {
      "text/plain": [
       "LogisticRegression(C=1.0, class_weight=None, dual=False, fit_intercept=True,\n",
       "          intercept_scaling=1, max_iter=5000, multi_class='warn',\n",
       "          n_jobs=None, penalty='l2', random_state=None, solver='lbfgs',\n",
       "          tol=0.0001, verbose=0, warm_start=False)"
      ]
     },
     "execution_count": 69,
     "metadata": {},
     "output_type": "execute_result"
    }
   ],
   "source": [
    "#Fitting the model\n",
    "#Note: Its taking long to converge, perhaps we should consider scaling some features like chars, words\n",
    "model = sklearn.linear_model.LogisticRegression(solver='lbfgs', max_iter=5000)\n",
    "model.fit(xtrain, ytrain)"
   ]
  },
  {
   "cell_type": "code",
   "execution_count": 70,
   "metadata": {},
   "outputs": [
    {
     "data": {
      "image/png": "[encoded data removed]",
      "text/plain": [
       "<Figure size 432x288 with 1 Axes>"
      ]
     },
     "metadata": {
      "needs_background": "light"
     },
     "output_type": "display_data"
    }
   ],
   "source": [
    "#Lets visualize some test predictions.\n",
    "pred = model.predict_proba(xtest)\n",
    "plt.hist(pred[:,0])\n",
    "plt.xlabel('Predicted Probability')\n",
    "plt.ylabel('Number of messages')\n",
    "plt.axis(xmin=0, xmax=1)\n",
    "plt.grid();"
   ]
  },
  {
   "cell_type": "code",
   "execution_count": 71,
   "metadata": {},
   "outputs": [
    {
     "data": {
      "text/plain": [
       "0.6922190201729107"
      ]
     },
     "execution_count": 71,
     "metadata": {},
     "output_type": "execute_result"
    }
   ],
   "source": [
    "#lets measure the performance of this model\n",
    "#accuracy_score\n",
    "predicted = model.predict(xtest)\n",
    "accuracy_score(ytest, predicted)"
   ]
  },
  {
   "cell_type": "code",
   "execution_count": 72,
   "metadata": {},
   "outputs": [
    {
     "data": {
      "text/plain": [
       "0.6855376706360385"
      ]
     },
     "execution_count": 72,
     "metadata": {},
     "output_type": "execute_result"
    }
   ],
   "source": [
    "roc_auc_score(ytest, predicted)"
   ]
  },
  {
   "cell_type": "code",
   "execution_count": 73,
   "metadata": {},
   "outputs": [
    {
     "data": {
      "text/plain": [
       "0.23496594441287832"
      ]
     },
     "execution_count": 73,
     "metadata": {},
     "output_type": "execute_result"
    }
   ],
   "source": [
    "#Let's also do roc-auc-score\n",
    "roc_auc_score(ytest, pred[:,0])"
   ]
  },
  {
   "cell_type": "code",
   "execution_count": 74,
   "metadata": {},
   "outputs": [
    {
     "data": {
      "text/plain": [
       "0.7650340555871217"
      ]
     },
     "execution_count": 74,
     "metadata": {},
     "output_type": "execute_result"
    }
   ],
   "source": [
    "#Let's also do roc-auc-score\n",
    "roc_auc_score(ytest, pred[:,1])"
   ]
  },
  {
   "cell_type": "code",
   "execution_count": 75,
   "metadata": {},
   "outputs": [
    {
     "data": {
      "text/plain": [
       "0.5767419001252915"
      ]
     },
     "execution_count": 75,
     "metadata": {},
     "output_type": "execute_result"
    }
   ],
   "source": [
    "#K-Fold for BoW\n",
    "rkf = RepeatedKFold(n_splits=10, n_repeats=10, random_state=2652124)\n",
    "accuracy = []\n",
    "roc_auc = []\n",
    "model = sklearn.linear_model.LogisticRegression(solver='lbfgs', max_iter=5000)\n",
    "for train_index, test_index in rkf.split(all_features, y):\n",
    "    #print(\"TRAIN:\", train_index, \"TEST:\", test_index)\n",
    "    X_train, X_test = X.iloc[train_index], X.iloc[test_index]\n",
    "    y_train, y_test = y.iloc[train_index], y.iloc[test_index]\n",
    "    model.fit(X_train, y_train)\n",
    "    pred = model.predict(X_test)\n",
    "    accuracy.append(accuracy_score(y_test, pred))  #converting the preditions to 100%\n",
    "    #roc_auc.append(roc_auc_score(y_test, pred)*100)\n",
    "    \n",
    "statistics.mean(accuracy)\n"
   ]
  }
 ],
 "metadata": {
  "kernelspec": {
   "display_name": "Python 3",
   "language": "python",
   "name": "python3"
  },
  "language_info": {
   "codemirror_mode": {
    "name": "ipython",
    "version": 3
   },
   "file_extension": ".py",
   "mimetype": "text/x-python",
   "name": "python",
   "nbconvert_exporter": "python",
   "pygments_lexer": "ipython3",
   "version": "3.7.3"
  }
 },
 "nbformat": 4,
 "nbformat_minor": 2
}
