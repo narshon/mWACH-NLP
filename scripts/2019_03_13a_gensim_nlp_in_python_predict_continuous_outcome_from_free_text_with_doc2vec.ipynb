{
 "cells": [
  {
   "cell_type": "code",
   "execution_count": null,
   "metadata": {},
   "outputs": [],
   "source": [
    "import numpy as np, matplotlib.pyplot as plt, pandas as pd\n",
    "pd.set_option('display.max_rows', 4)\n",
    "# !date\n",
    "\n",
    "# %load_ext autoreload\n",
    "# %autoreload 2"
   ]
  },
  {
   "cell_type": "markdown",
   "metadata": {},
   "source": [
    "# Predicting a continuous outcome from text\n",
    "\n",
    "\n",
    "## 0. Data Prep"
   ]
  },
  {
   "cell_type": "code",
   "execution_count": null,
   "metadata": {},
   "outputs": [],
   "source": [
    "# start with a corpus of text, relevant to global health metrics\n",
    "# described here: https://gatesopenresearch.org/articles/2-18/v1\n",
    "\n",
    "df = pd.read_excel('https://osf.io/w87ym/download', sheet_name='data')\n",
    "df"
   ]
  },
  {
   "cell_type": "code",
   "execution_count": null,
   "metadata": {},
   "outputs": [],
   "source": [
    "# text data (feature vector)\n",
    "X_text = df.open_response.astype(str)"
   ]
  },
  {
   "cell_type": "code",
   "execution_count": 5,
   "metadata": {},
   "outputs": [],
   "source": [
    "# age in years as continuous outcome to predict\n",
    "y = df.age_years.fillna(df.age_months/12.0).fillna(df.age_days/365.25)"
   ]
  },
  {
   "cell_type": "code",
   "execution_count": 6,
   "metadata": {},
   "outputs": [
    {
     "data": {
      "text/plain": [
       "999.0    118\n",
       "102.0      1\n",
       "Name: age_years, dtype: int64"
      ]
     },
     "execution_count": 6,
     "metadata": {},
     "output_type": "execute_result"
    }
   ],
   "source": [
    "df[y>100].age_years.value_counts()"
   ]
  },
  {
   "cell_type": "code",
   "execution_count": 7,
   "metadata": {},
   "outputs": [],
   "source": [
    "# drop rows without an age, or with age more than 100 or less than 0\n",
    "bad_data_rows = (y.isnull() | (y == 999))\n",
    "y = y[~bad_data_rows]\n",
    "X_text = X_text[~bad_data_rows]"
   ]
  },
  {
   "cell_type": "code",
   "execution_count": 8,
   "metadata": {},
   "outputs": [],
   "source": [
    "# convert to numpy arrays (pandas and sklearn don't always work together well)\n",
    "y = y.values\n",
    "X_text = X_text.values"
   ]
  },
  {
   "cell_type": "code",
   "execution_count": 9,
   "metadata": {},
   "outputs": [
    {
     "data": {
      "text/plain": [
       "array(['no comments.[PERSON] only told us what happened to the deceased during the month that he lived with her. she does not know the answer to some questions because the deceased was taken to the hospital by ambulance, and it was her husband who went to the hospital (for only one day). the lady says the deceased had cirrhosis and that was the cause of his death.',\n",
       "       '[PATIENT] was suffering for the last two years with wheezing, joint pains, lung obstruction decease, mental agony, depression, fits and heart problems. all these deceases come and go often.\\r\\n fits came before his death. then onwards he started loosing consciousness. there was pain in the chest and fever. treatment is given at [DOCTOR]. ( [HOSPITAL], [PLACE]). he referred to [HOSPITAL2]. but they have not taken the case, and advised us to go to fever hospital. at fever hospital, they referred to the [HOSPITAL3]. we have gone by 108 to [HOSPITAL3]. he died after two hours of treatment.'],\n",
       "      dtype=object)"
      ]
     },
     "execution_count": 9,
     "metadata": {},
     "output_type": "execute_result"
    }
   ],
   "source": [
    "X_text[:2]"
   ]
  },
  {
   "cell_type": "code",
   "execution_count": 3,
   "metadata": {
    "scrolled": true
   },
   "outputs": [],
   "source": [
    "# instead of encoding the text data with an n-gram, in this notebook we will use doc2vec to embed the\n",
    "# text in a high-dimensional vector\n",
    "\n",
    "# see https://radimrehurek.com/gensim/models/doc2vec.html for documentation\n",
    "\n",
    "from gensim.models.doc2vec import Doc2Vec, TaggedDocument\n",
    "from gensim.models import word2vec"
   ]
  },
  {
   "cell_type": "code",
   "execution_count": 5,
   "metadata": {},
   "outputs": [
    {
     "name": "stdout",
     "output_type": "stream",
     "text": [
      "1\n"
     ]
    }
   ],
   "source": [
    "print(word2vec.FAST_VERSION)"
   ]
  },
  {
   "cell_type": "code",
   "execution_count": 7,
   "metadata": {
    "scrolled": true
   },
   "outputs": [
    {
     "name": "stdout",
     "output_type": "stream",
     "text": [
      "Collecting libpython\n"
     ]
    },
    {
     "name": "stderr",
     "output_type": "stream",
     "text": [
      "  Could not find a version that satisfies the requirement libpython (from versions: )\n",
      "No matching distribution found for libpython\n"
     ]
    }
   ],
   "source": []
  },
  {
   "cell_type": "code",
   "execution_count": 3,
   "metadata": {},
   "outputs": [
    {
     "ename": "NameError",
     "evalue": "name 'X_text' is not defined",
     "output_type": "error",
     "traceback": [
      "\u001b[1;31m---------------------------------------------------------------------------\u001b[0m",
      "\u001b[1;31mNameError\u001b[0m                                 Traceback (most recent call last)",
      "\u001b[1;32m<ipython-input-3-7b1be680d471>\u001b[0m in \u001b[0;36m<module>\u001b[1;34m\u001b[0m\n\u001b[1;32m----> 1\u001b[1;33m \u001b[0mdocuments\u001b[0m \u001b[1;33m=\u001b[0m \u001b[1;33m[\u001b[0m\u001b[0mTaggedDocument\u001b[0m\u001b[1;33m(\u001b[0m\u001b[0mdoc\u001b[0m\u001b[1;33m,\u001b[0m \u001b[1;33m[\u001b[0m\u001b[0mi\u001b[0m\u001b[1;33m]\u001b[0m\u001b[1;33m)\u001b[0m \u001b[1;32mfor\u001b[0m \u001b[0mi\u001b[0m\u001b[1;33m,\u001b[0m \u001b[0mdoc\u001b[0m \u001b[1;32min\u001b[0m \u001b[0menumerate\u001b[0m\u001b[1;33m(\u001b[0m\u001b[0mX_text\u001b[0m\u001b[1;33m)\u001b[0m\u001b[1;33m]\u001b[0m\u001b[1;33m\u001b[0m\u001b[1;33m\u001b[0m\u001b[0m\n\u001b[0m",
      "\u001b[1;31mNameError\u001b[0m: name 'X_text' is not defined"
     ]
    }
   ],
   "source": [
    "documents = [TaggedDocument(doc, [i]) for i, doc in enumerate(X_text)]"
   ]
  },
  {
   "cell_type": "code",
   "execution_count": 44,
   "metadata": {},
   "outputs": [
    {
     "name": "stdout",
     "output_type": "stream",
     "text": [
      "CPU times: user 24.9 s, sys: 2.85 s, total: 27.7 s\n",
      "Wall time: 12.9 s\n"
     ]
    }
   ],
   "source": [
    "%%time\n",
    "model = Doc2Vec(documents, vector_size=50, window=2, min_count=1, workers=4)"
   ]
  },
  {
   "cell_type": "code",
   "execution_count": 45,
   "metadata": {},
   "outputs": [
    {
     "data": {
      "text/plain": [
       "array([ 4.7540697e-03,  5.6939959e-03, -5.3986213e-03,  6.4885179e-03,\n",
       "       -9.9563431e-03, -6.1436804e-05,  9.9745682e-03, -4.9145520e-03,\n",
       "       -5.7798391e-03, -7.5881304e-03,  2.3643777e-03,  4.2137745e-04,\n",
       "       -1.9270923e-03, -2.4307834e-03,  2.4967561e-03,  3.1249523e-03,\n",
       "        6.6665793e-03, -3.6110103e-03, -5.5678841e-03, -1.3822837e-03,\n",
       "       -3.5947775e-03, -3.1611675e-03, -7.3093916e-03,  5.8761137e-03,\n",
       "        9.4178291e-03, -1.2074431e-03, -2.1537917e-03, -3.6551692e-03,\n",
       "        3.3709705e-03,  3.7375726e-03,  6.8852436e-03,  2.6244388e-03,\n",
       "        6.0572177e-03,  6.6508609e-03,  4.3719271e-03, -5.0327377e-03,\n",
       "        6.2206974e-03, -4.3365788e-03,  8.0949633e-04,  9.7979419e-03,\n",
       "       -5.9020254e-03,  7.0130979e-03, -7.4302536e-03, -8.9368559e-03,\n",
       "       -3.8574499e-03, -9.7366620e-04, -3.5616411e-03,  7.2801379e-03,\n",
       "       -4.4167475e-03,  5.4005207e-03], dtype=float32)"
      ]
     },
     "execution_count": 45,
     "metadata": {},
     "output_type": "execute_result"
    }
   ],
   "source": [
    "vector = model.infer_vector([X_text[0]])\n",
    "vector"
   ]
  },
  {
   "cell_type": "code",
   "execution_count": 46,
   "metadata": {},
   "outputs": [
    {
     "name": "stdout",
     "output_type": "stream",
     "text": [
      "CPU times: user 2.07 s, sys: 0 ns, total: 2.07 s\n",
      "Wall time: 2.06 s\n"
     ]
    }
   ],
   "source": [
    "%%time\n",
    "X = np.array([model.infer_vector([x_i]) for x_i in X_text])"
   ]
  },
  {
   "cell_type": "code",
   "execution_count": 47,
   "metadata": {},
   "outputs": [
    {
     "data": {
      "text/plain": [
       "array([ 4.7540697e-03,  5.6939959e-03, -5.3986213e-03,  6.4885179e-03,\n",
       "       -9.9563431e-03, -6.1436804e-05,  9.9745682e-03, -4.9145520e-03,\n",
       "       -5.7798391e-03, -7.5881304e-03,  2.3643777e-03,  4.2137745e-04,\n",
       "       -1.9270923e-03, -2.4307834e-03,  2.4967561e-03,  3.1249523e-03,\n",
       "        6.6665793e-03, -3.6110103e-03, -5.5678841e-03, -1.3822837e-03,\n",
       "       -3.5947775e-03, -3.1611675e-03, -7.3093916e-03,  5.8761137e-03,\n",
       "        9.4178291e-03, -1.2074431e-03, -2.1537917e-03, -3.6551692e-03,\n",
       "        3.3709705e-03,  3.7375726e-03,  6.8852436e-03,  2.6244388e-03,\n",
       "        6.0572177e-03,  6.6508609e-03,  4.3719271e-03, -5.0327377e-03,\n",
       "        6.2206974e-03, -4.3365788e-03,  8.0949633e-04,  9.7979419e-03,\n",
       "       -5.9020254e-03,  7.0130979e-03, -7.4302536e-03, -8.9368559e-03,\n",
       "       -3.8574499e-03, -9.7366620e-04, -3.5616411e-03,  7.2801379e-03,\n",
       "       -4.4167475e-03,  5.4005207e-03], dtype=float32)"
      ]
     },
     "execution_count": 47,
     "metadata": {},
     "output_type": "execute_result"
    }
   ],
   "source": [
    "X[0]"
   ]
  },
  {
   "cell_type": "code",
   "execution_count": 48,
   "metadata": {},
   "outputs": [],
   "source": [
    "# make a train/test split for out-of-sample validation\n",
    "\n",
    "import sklearn.model_selection\n",
    "train, test = sklearn.model_selection.train_test_split(range(len(y)))"
   ]
  },
  {
   "cell_type": "code",
   "execution_count": 49,
   "metadata": {},
   "outputs": [
    {
     "data": {
      "image/png": "[encoded data removed]",
      "text/plain": [
       "<Figure size 432x288 with 1 Axes>"
      ]
     },
     "metadata": {
      "needs_background": "light"
     },
     "output_type": "display_data"
    }
   ],
   "source": [
    "plt.hist(y[train], label='train')\n",
    "plt.hist(y[test], label='test')\n",
    "plt.xlabel('Age (years)')\n",
    "plt.legend(loc=(1.1, .1));"
   ]
  },
  {
   "cell_type": "markdown",
   "metadata": {},
   "source": [
    "## 1. Penalized Linear Regression in `sklearn`"
   ]
  },
  {
   "cell_type": "code",
   "execution_count": 50,
   "metadata": {},
   "outputs": [
    {
     "name": "stdout",
     "output_type": "stream",
     "text": [
      "CPU times: user 18 ms, sys: 0 ns, total: 18 ms\n",
      "Wall time: 14.4 ms\n"
     ]
    },
    {
     "data": {
      "text/plain": [
       "Lasso(alpha=1.0, copy_X=True, fit_intercept=True, max_iter=1000,\n",
       "   normalize=False, positive=False, precompute=False, random_state=None,\n",
       "   selection='cyclic', tol=0.0001, warm_start=False)"
      ]
     },
     "execution_count": 50,
     "metadata": {},
     "output_type": "execute_result"
    }
   ],
   "source": [
    "import sklearn.linear_model\n",
    "n_jobs = 32\n",
    "\n",
    "# clf = sklearn.linear_model.ElasticNetCV(n_jobs=n_jobs)\n",
    "clf = sklearn.linear_model.Lasso()\n",
    "%time clf.fit(X[train], y[train])"
   ]
  },
  {
   "cell_type": "code",
   "execution_count": 51,
   "metadata": {},
   "outputs": [
    {
     "name": "stdout",
     "output_type": "stream",
     "text": [
      "CPU times: user 7 ms, sys: 13 ms, total: 20 ms\n",
      "Wall time: 2.18 ms\n"
     ]
    }
   ],
   "source": [
    "%time ypred = clf.predict(X[test])"
   ]
  },
  {
   "cell_type": "code",
   "execution_count": 52,
   "metadata": {},
   "outputs": [],
   "source": [
    "# ypred = np.ones_like(y[test]) * 25"
   ]
  },
  {
   "cell_type": "markdown",
   "metadata": {},
   "source": [
    "### Now the betas are not related to specific words"
   ]
  },
  {
   "cell_type": "code",
   "execution_count": 56,
   "metadata": {},
   "outputs": [
    {
     "data": {
      "text/plain": [
       "0     0.0\n",
       "27   -0.0\n",
       "28   -0.0\n",
       "29    0.0\n",
       "     ... \n",
       "21    0.0\n",
       "22   -0.0\n",
       "12    0.0\n",
       "49   -0.0\n",
       "Length: 50, dtype: float32"
      ]
     },
     "execution_count": 56,
     "metadata": {},
     "output_type": "execute_result"
    }
   ],
   "source": [
    "pd.Series(clf.coef_*1_000).sort_values()\n"
   ]
  },
  {
   "cell_type": "code",
   "execution_count": 57,
   "metadata": {},
   "outputs": [],
   "source": [
    "# bad thing is it doesn't predict that well"
   ]
  },
  {
   "cell_type": "code",
   "execution_count": 58,
   "metadata": {},
   "outputs": [
    {
     "data": {
      "text/plain": [
       "27.68416524933234"
      ]
     },
     "execution_count": 58,
     "metadata": {},
     "output_type": "execute_result"
    }
   ],
   "source": [
    "# OOS RMSE (accuracy)\n",
    "np.sqrt(np.mean((ypred - y[test])**2))"
   ]
  },
  {
   "cell_type": "code",
   "execution_count": 59,
   "metadata": {},
   "outputs": [
    {
     "data": {
      "text/plain": [
       "array([1.70000000e+01, 2.19028063e-02, 2.70000000e+01, ...,\n",
       "       6.50000000e+01, 2.70000000e+01, 3.50000000e+01])"
      ]
     },
     "execution_count": 59,
     "metadata": {},
     "output_type": "execute_result"
    }
   ],
   "source": [
    "y[test]"
   ]
  },
  {
   "cell_type": "code",
   "execution_count": 60,
   "metadata": {},
   "outputs": [
    {
     "data": {
      "text/plain": [
       "array([30.802176, 30.802176, 30.802176, ..., 30.802176, 30.802176,\n",
       "       30.802176], dtype=float32)"
      ]
     },
     "execution_count": 60,
     "metadata": {},
     "output_type": "execute_result"
    }
   ],
   "source": [
    "ypred"
   ]
  },
  {
   "cell_type": "code",
   "execution_count": 61,
   "metadata": {},
   "outputs": [
    {
     "data": {
      "text/plain": [
       "28.327315345543877"
      ]
     },
     "execution_count": 61,
     "metadata": {},
     "output_type": "execute_result"
    }
   ],
   "source": [
    "np.sqrt(np.mean((25 - y[test])**2))"
   ]
  },
  {
   "cell_type": "markdown",
   "metadata": {},
   "source": [
    "## 2. `GBM` from `sklearn`"
   ]
  },
  {
   "cell_type": "code",
   "execution_count": 62,
   "metadata": {},
   "outputs": [],
   "source": [
    "def fit_predict(clf):\n",
    "    print('fitting', clf)\n",
    "    %time clf.fit(X[train], y[train])\n",
    "    print('predicting')\n",
    "    ypred = clf.predict(X[test])\n",
    "    print('RMSE accuracy:', np.sqrt(np.mean((ypred - y[test])**2)))"
   ]
  },
  {
   "cell_type": "code",
   "execution_count": 63,
   "metadata": {},
   "outputs": [
    {
     "name": "stdout",
     "output_type": "stream",
     "text": [
      "fitting GradientBoostingRegressor(alpha=0.9, criterion='friedman_mse', init=None,\n",
      "             learning_rate=0.1, loss='ls', max_depth=3, max_features=None,\n",
      "             max_leaf_nodes=None, min_impurity_decrease=0.0,\n",
      "             min_impurity_split=None, min_samples_leaf=1,\n",
      "             min_samples_split=2, min_weight_fraction_leaf=0.0,\n",
      "             n_estimators=100, n_iter_no_change=None, presort='auto',\n",
      "             random_state=None, subsample=1.0, tol=0.0001,\n",
      "             validation_fraction=0.1, verbose=0, warm_start=False)\n",
      "CPU times: user 7.46 s, sys: 0 ns, total: 7.46 s\n",
      "Wall time: 7.47 s\n",
      "predicting\n",
      "RMSE accuracy: 27.466095828725333\n"
     ]
    }
   ],
   "source": [
    "import sklearn.ensemble\n",
    "clf = sklearn.ensemble.GradientBoostingRegressor()\n",
    "fit_predict(clf)"
   ]
  },
  {
   "cell_type": "code",
   "execution_count": 64,
   "metadata": {},
   "outputs": [],
   "source": [
    "ypred = clf.predict(X[test])"
   ]
  },
  {
   "cell_type": "code",
   "execution_count": 65,
   "metadata": {},
   "outputs": [
    {
     "data": {
      "image/png": "[encoded data removed]",
      "text/plain": [
       "<Figure size 432x288 with 1 Axes>"
      ]
     },
     "metadata": {
      "needs_background": "light"
     },
     "output_type": "display_data"
    }
   ],
   "source": [
    "plt.plot(y[test], ypred, 'o', mec='C0', color='none', mew=1, alpha=.5)\n",
    "plt.plot([0,100], [0,100], 'k--')\n",
    "plt.xlabel('Observed Age (years)')\n",
    "plt.ylabel('Predicted Age (years)')\n",
    "plt.grid();"
   ]
  },
  {
   "cell_type": "code",
   "execution_count": 66,
   "metadata": {},
   "outputs": [],
   "source": [
    "import seaborn as sns"
   ]
  },
  {
   "cell_type": "code",
   "execution_count": 67,
   "metadata": {},
   "outputs": [
    {
     "data": {
      "text/plain": [
       "<seaborn.axisgrid.FacetGrid at 0x2b21c12d5eb8>"
      ]
     },
     "execution_count": 67,
     "metadata": {},
     "output_type": "execute_result"
    },
    {
     "data": {
      "image/png": "[encoded data removed]",
      "text/plain": [
       "<Figure size 720x360 with 1 Axes>"
      ]
     },
     "metadata": {
      "needs_background": "light"
     },
     "output_type": "display_data"
    }
   ],
   "source": [
    "t = pd.DataFrame()\n",
    "t['obs'] = y[test]\n",
    "t['pred'] = ypred\n",
    "sns.lmplot('obs', 'pred', t, aspect=2)"
   ]
  }
 ],
 "metadata": {
  "kernelspec": {
   "display_name": "Python 3",
   "language": "python",
   "name": "python3"
  },
  "language_info": {
   "codemirror_mode": {
    "name": "ipython",
    "version": 3
   },
   "file_extension": ".py",
   "mimetype": "text/x-python",
   "name": "python",
   "nbconvert_exporter": "python",
   "pygments_lexer": "ipython3",
   "version": "3.7.3"
  }
 },
 "nbformat": 4,
 "nbformat_minor": 2
}
